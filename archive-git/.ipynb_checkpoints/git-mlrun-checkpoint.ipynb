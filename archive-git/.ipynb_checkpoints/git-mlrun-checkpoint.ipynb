{
 "cells": [
  {
   "cell_type": "markdown",
   "id": "9e20d428-65ad-4fc5-a4a2-fa96a7d1c918",
   "metadata": {},
   "source": [
    "# Working with Git - best practices and example"
   ]
  },
  {
   "cell_type": "markdown",
   "id": "d614bcfb-07e8-4f3c-a606-198d1b79ed3e",
   "metadata": {},
   "source": [
    "This notebook provides an overview of developing and deploying ML applications using MLRun and Git. \n",
    "\n",
    "Tutorial steps:\n",
    "\n",
    "1) [Importing MLRun package and creating a new project.](#importing-mlrun)\n",
    "2) [Configuring Git (user name, user email and create git remote)](#configuring-git)\n",
    "3) [Developing, logging and registering ML functions and artifacts](#developing) -\n",
    "    1. [Register a dataset artifact in the project](#register-dataset)\n",
    "    2. [Train Model func - register this function object into the project, run function](#train-model)\n",
    "    3. [Register a model artifact into the project](#register-model)\n",
    "    4. [Serving func - create, add model and register the model serving function](#serving-function)\n",
    "    5. [Workflow - build, run and register a workflow (workflow includes training the model and deploying)](#workflow)\n",
    "4) [Pushing project context to Git (end of the day)](#push)\n",
    "5) [Pulling from Git to the project context (start of the day) and repeat from step 3 (if needed)](#pull)\n",
    "**Note:** any of the sub-steps in step 3 are optional. Working with Git can also apply on just one of these sub-steps. Also step 2 can come after step 3.\n",
    "\n",
    "**General:**\n",
    "Project code, metadata, and configuration are stored and versioned in source control systems like Git or archives (zip, tar) and can be loaded into your work environment or CI system with a single SDK or CLI command.\n",
    "<br> Before working with Git you need to create a repo and branch (if not master) in Git to be able to push the files to this repo. \n",
    "You can work with Git and MLRun with one of the following use-cases:\n",
    "1. If you have a git repo with files that you want to use and it\n",
    "    1. Includes the [project.yaml](#project-yaml) - use [project.load](#https://docs.mlrun.org/en/stable/projects/load-project.html) method to load the project from git (it will add the files to the project context)\n",
    "    2. Doesn't include the [project.yaml](#project-yaml) file you can clone your git repo using the CLI\n",
    "2. If you have an empty git repo, you can connect your project to git repo using ```git remote add <remote-name> <remote-url>``` in the terminal or ```project.create_remote()``` in MLRun SDK, as shown in this tutorial (step 2)"
   ]
  },
  {
   "cell_type": "markdown",
   "id": "9126404b-d89c-481e-a907-7e88616849b0",
   "metadata": {},
   "source": [
    "<a id=\"importing-mlrun\"></a>\n",
    "## Importing MLRun package and creating a new project."
   ]
  },
  {
   "cell_type": "markdown",
   "id": "08f61676-9042-4280-a341-734f09a7ee1b",
   "metadata": {},
   "source": [
    "First thing import the MLRun package"
   ]
  },
  {
   "cell_type": "code",
   "execution_count": 1,
   "id": "b1355e94-6bd4-4fb1-b973-2a9d1e282604",
   "metadata": {},
   "outputs": [],
   "source": [
    "import mlrun"
   ]
  },
  {
   "cell_type": "markdown",
   "id": "0f3cc17a-62d4-4128-82ac-744ca10558a2",
   "metadata": {},
   "source": [
    "Now create a new project or load it from git remote. The init_git flag is used to initialize git in the context dir."
   ]
  },
  {
   "cell_type": "code",
   "execution_count": 2,
   "id": "92350bbf-5dce-4e48-a17a-07c8689d9257",
   "metadata": {},
   "outputs": [
    {
     "name": "stdout",
     "output_type": "stream",
     "text": [
      "> 2023-02-16 10:32:36,080 [info] Deleting project new-git-project from MLRun DB due to overwrite\n",
      "> 2023-02-16 10:32:37,885 [info] Created and saved project new-git-project: {'from_template': None, 'overwrite': True, 'context': './', 'save': True}\n"
     ]
    }
   ],
   "source": [
    "project = mlrun.new_project(name='new-git-project',init_git=True, overwrite=True)"
   ]
  },
  {
   "cell_type": "markdown",
   "id": "30959424-3db8-4d62-bbfb-865b4c748174",
   "metadata": {},
   "source": [
    "<a id=\"project-yaml\"></a>\n",
    "When you create/save the project it stores the project definitions in the project.yaml. This allows reconstructing the project in a remote cluster or a CI/CD system. A light project YAML looks like (use ```print(project.to_yaml())``` to print) :\n",
    "```\n",
    "kind: project\n",
    "metadata:\n",
    "  name: new-git-project\n",
    "spec:\n",
    "  functions: []\n",
    "  workflows: []\n",
    "  artifacts: []\n",
    "  source: ''\n",
    "  desired_state: online\n",
    "```"
   ]
  },
  {
   "cell_type": "markdown",
   "id": "14eebd63-bb56-466a-b73f-160c17e28fca",
   "metadata": {},
   "source": [
    "<a id=\"configuring-git\"></a>\n",
    "## Configuring Git"
   ]
  },
  {
   "cell_type": "markdown",
   "id": "6ead7df0-e6ee-46d8-8159-8d1a819b7d78",
   "metadata": {},
   "source": [
    "1. To add a new remote, use the git remote add command on the terminal, in the directory your repository is stored at:\n",
    "```\n",
    "git remote add <remote-name> <remote-url>\n",
    "```    \n",
    "The git remote add command takes two arguments:\n",
    "\n",
    "    1. A unique remote name, for example, “my_awesome_new_remote_repo”\n",
    "    2. A remote URL, which you can find on the Source sub-tab of your Git repo\n",
    "\n",
    "Alternatively you can use MLRun SDK command:\n",
    "```project.create_remote(url=\"https://github.com/mlrun/mlrun.git\", name=\"my_awesome_new_remote_repo\", branch=\"git-mlrun\")```   \n",
    "\n",
    "Where:\n",
    "```\n",
    "    param url:    remote git url\n",
    "    param name:   name for the remote (default is 'origin')\n",
    "    param branch: Git branch to use as source\n",
    "```\n",
    "Note that you cannot run this command if there is an existing remote with the same name (run this command only once!)"
   ]
  },
  {
   "cell_type": "markdown",
   "id": "8d890a56-b220-416a-93cf-810a701ca154",
   "metadata": {},
   "source": [
    "2. If you are using containerized Jupyter you also need to set your Git parameters, using the following commands in the CLI\n",
    "```\n",
    "git config --global user.email \"<my@email.com>\"\n",
    "git config --global user.name \"<name>\"\n",
    "git config --global credential.helper store\n",
    "```"
   ]
  },
  {
   "cell_type": "markdown",
   "id": "15db8587-03b3-4886-b73d-c931d0f41bbd",
   "metadata": {},
   "source": [
    "<a id=\"developing\"></a>\n",
    "## Developing and logging ML functions and artifacts"
   ]
  },
  {
   "cell_type": "markdown",
   "id": "24aa6469-934c-448c-b158-d3303ec082c6",
   "metadata": {},
   "source": [
    "In this section you are going to add functions, workflows and artifacts to [project.yaml](#project-yaml) so that it will contain all project metadata and links to:\n",
    "\n",
    "1. **artifacts** (artifacts, datasets, models) - set artifact allows the user to load the project with the artifact metadata (it points to the artifact file in a remote storage e.g S3)\n",
    "2. **functions** - set function to a project allows the user to run the function in a remote cluster, every time the project is loaded\n",
    "3. **workflows** - set workflow to a project allows the user to run the workflow in a remote cluster, every time the project is loaded\n"
   ]
  },
  {
   "cell_type": "markdown",
   "id": "152cfe50-f0b1-4c40-82e7-de5badcf5eec",
   "metadata": {},
   "source": [
    "<a id=\"register-dataset\"></a>\n",
    "### Register a dataset artifact"
   ]
  },
  {
   "cell_type": "markdown",
   "id": "79f02266-9eb0-4106-8df5-ce3ba81e2688",
   "metadata": {},
   "source": [
    "Register an artifact in the project.yaml, so that it can be further imported on project load"
   ]
  },
  {
   "cell_type": "code",
   "execution_count": 17,
   "id": "7a88c3cb-3651-45fc-96ab-ac11eec56a43",
   "metadata": {
    "tags": []
   },
   "outputs": [],
   "source": [
    "data_url = mlrun.get_sample_path('data/iris/iris.data.raw.csv')\n",
    "x=project.set_artifact('data', artifact=mlrun.artifacts.DatasetArtifact(),target_path=data_url)  "
   ]
  },
  {
   "cell_type": "code",
   "execution_count": 19,
   "id": "543a1944-d7bc-47c2-a27f-7546ddee9976",
   "metadata": {},
   "outputs": [],
   "source": []
  },
  {
   "cell_type": "markdown",
   "id": "469c0ea8-1175-43b6-bece-7c70772a579c",
   "metadata": {},
   "source": [
    "Save the artifact in MLRun DB (sync artficats metadata from the project.yaml to MLRun db), so that it can be further used as an input for the train model function"
   ]
  },
  {
   "cell_type": "code",
   "execution_count": 20,
   "id": "65132b98-85cd-4a04-8475-31b8e39c19fb",
   "metadata": {},
   "outputs": [],
   "source": [
    "project.register_artifacts()\n",
    "dataset_artifact = project.get_artifact('data') "
   ]
  },
  {
   "cell_type": "markdown",
   "id": "a946150f-7fa1-4236-b188-ff59b45aa136",
   "metadata": {},
   "source": [
    "```{admonition} Note\n",
    "In case you have a src/fetch_data.py in your context directory that prepares your data, you'll need to first create a serverless function object from src/fetch_data.py, register it in the project.yaml and run:\n",
    "\n",
    "fetch_data_fn = project.set_function(\"src/fetch_data.py\", name=\"fetch_data\", kind=\"job\", image=\"mlrun/mlrun\", handler=\"fetch_data\")\n",
    "project.save()\n",
    "fetch_data_run_remotely = project.run_function(\"fetch_data\",inputs={'dataset':project.get_artifact('data').uri})\n",
    "```"
   ]
  },
  {
   "cell_type": "markdown",
   "id": "75427718-c283-4b3b-aa68-0bb9cc92ac59",
   "metadata": {},
   "source": [
    "<a id=\"train-model\"></a>\n",
    "### Train Model function\n",
    "\n",
    "Assuming you have a src/trainer.py in your context directory\n",
    "\n",
    "The other option is to use the auto_trainer function form the hub:\n",
    "```trainer = project.set_function(func=\"hub://auto_trainer\")```\n",
    "\n",
    "Create a serverless function object from src/trainer.py, and register it in the project.yaml"
   ]
  },
  {
   "cell_type": "code",
   "execution_count": 5,
   "id": "76c9fd34-3501-4f98-a302-dbfb68f86e1c",
   "metadata": {},
   "outputs": [],
   "source": [
    "trainer = project.set_function(func=\"src/trainer.py\", name=\"trainer\", kind=\"job\", image=\"mlrun/mlrun\", handler=\"train\")"
   ]
  },
  {
   "cell_type": "markdown",
   "id": "3f015355-69b6-4f5d-bd22-8b47158e5885",
   "metadata": {},
   "source": [
    "```{admonition} Note\n",
    "\n",
    "Users who already have their code files in Git repo and want to run the code files only from there can add \"with_repo\" flag to project.set_function (see example below). In this case, the contents of the Git repo or archive will be available in the current working directory of your MLRun function during runtime. In other words the \"with_repo\" flag automatically clones the git repo from the project source to your running container and then runs these code files within the container. \n",
    "An advantage of this approach is that it allows users to set a relative path to the handler function without the need to handle with file paths in the local directory (e.g folder-name.file-name.function-handler). For example:\n",
    "\n",
    "project.set_function(name=\"train\", handler=\"src.trainer.train\",  image=\"mlrun/mlrun\", kind=\"job\", with_repo=True)\n",
    "\n",
    "```"
   ]
  },
  {
   "cell_type": "markdown",
   "id": "26b20757-98a6-41f7-9f3e-811105b22460",
   "metadata": {},
   "source": [
    "Run the function on the remote cluster (for running locally, add \"Local = True\" in project.run_function)"
   ]
  },
  {
   "cell_type": "code",
   "execution_count": 6,
   "id": "44591f1b-572f-4c73-84df-92fa5fc01ae1",
   "metadata": {},
   "outputs": [
    {
     "name": "stdout",
     "output_type": "stream",
     "text": [
      "> 2023-02-16 10:32:37,992 [warning] it is recommended to use k8s secret (specify secret_name), specifying the aws_access_key/aws_secret_key directly is unsafe\n",
      "> 2023-02-16 10:32:38,008 [info] starting run trainer-train uid=c83e248868b24cd89307ee942c6ad09b DB=http://mlrun-api:8080\n",
      "> 2023-02-16 10:32:39,253 [info] Job is running in the background, pod: trainer-train-nhqwn\n",
      "> 2023-02-16 10:32:52,269 [info] To track results use the CLI: {'info_cmd': 'mlrun get run c83e248868b24cd89307ee942c6ad09b -p new-git-project', 'logs_cmd': 'mlrun logs c83e248868b24cd89307ee942c6ad09b -p new-git-project'}\n",
      "> 2023-02-16 10:32:52,270 [info] run executed, status=completed\n",
      "final state: completed\n"
     ]
    },
    {
     "data": {
      "text/html": [
       "<style>\n",
       ".dictlist {\n",
       "  background-color: #4EC64B;\n",
       "  text-align: center;\n",
       "  margin: 4px;\n",
       "  border-radius: 3px; padding: 0px 3px 1px 3px; display: inline-block;}\n",
       ".artifact {\n",
       "  cursor: pointer;\n",
       "  background-color: #4EC64B;\n",
       "  text-align: left;\n",
       "  margin: 4px; border-radius: 3px; padding: 0px 3px 1px 3px; display: inline-block;\n",
       "}\n",
       "div.block.hidden {\n",
       "  display: none;\n",
       "}\n",
       ".clickable {\n",
       "  cursor: pointer;\n",
       "}\n",
       ".ellipsis {\n",
       "  display: inline-block;\n",
       "  max-width: 60px;\n",
       "  white-space: nowrap;\n",
       "  overflow: hidden;\n",
       "  text-overflow: ellipsis;\n",
       "}\n",
       ".master-wrapper {\n",
       "  display: flex;\n",
       "  flex-flow: row nowrap;\n",
       "  justify-content: flex-start;\n",
       "  align-items: stretch;\n",
       "}\n",
       ".master-tbl {\n",
       "  flex: 3\n",
       "}\n",
       ".master-wrapper > div {\n",
       "  margin: 4px;\n",
       "  padding: 10px;\n",
       "}\n",
       "iframe.fileview {\n",
       "  border: 0 none;\n",
       "  height: 100%;\n",
       "  width: 100%;\n",
       "  white-space: pre-wrap;\n",
       "}\n",
       ".pane-header-title {\n",
       "  width: 80%;\n",
       "  font-weight: 500;\n",
       "}\n",
       ".pane-header {\n",
       "  line-height: 1;\n",
       "  background-color: #4EC64B;\n",
       "  padding: 3px;\n",
       "}\n",
       ".pane-header .close {\n",
       "  font-size: 20px;\n",
       "  font-weight: 700;\n",
       "  float: right;\n",
       "  margin-top: -5px;\n",
       "}\n",
       ".master-wrapper .right-pane {\n",
       "  border: 1px inset silver;\n",
       "  width: 40%;\n",
       "  min-height: 300px;\n",
       "  flex: 3\n",
       "  min-width: 500px;\n",
       "}\n",
       ".master-wrapper * {\n",
       "  box-sizing: border-box;\n",
       "}\n",
       "</style><script>\n",
       "function copyToClipboard(fld) {\n",
       "    if (document.queryCommandSupported && document.queryCommandSupported('copy')) {\n",
       "        var textarea = document.createElement('textarea');\n",
       "        textarea.textContent = fld.innerHTML;\n",
       "        textarea.style.position = 'fixed';\n",
       "        document.body.appendChild(textarea);\n",
       "        textarea.select();\n",
       "\n",
       "        try {\n",
       "            return document.execCommand('copy'); // Security exception may be thrown by some browsers.\n",
       "        } catch (ex) {\n",
       "\n",
       "        } finally {\n",
       "            document.body.removeChild(textarea);\n",
       "        }\n",
       "    }\n",
       "}\n",
       "function expandPanel(el) {\n",
       "  const panelName = \"#\" + el.getAttribute('paneName');\n",
       "  console.log(el.title);\n",
       "\n",
       "  document.querySelector(panelName + \"-title\").innerHTML = el.title\n",
       "  iframe = document.querySelector(panelName + \"-body\");\n",
       "\n",
       "  const tblcss = `<style> body { font-family: Arial, Helvetica, sans-serif;}\n",
       "    #csv { margin-bottom: 15px; }\n",
       "    #csv table { border-collapse: collapse;}\n",
       "    #csv table td { padding: 4px 8px; border: 1px solid silver;} </style>`;\n",
       "\n",
       "  function csvToHtmlTable(str) {\n",
       "    return '<div id=\"csv\"><table><tr><td>' +  str.replace(/[\\n\\r]+$/g, '').replace(/[\\n\\r]+/g, '</td></tr><tr><td>')\n",
       "      .replace(/,/g, '</td><td>') + '</td></tr></table></div>';\n",
       "  }\n",
       "\n",
       "  function reqListener () {\n",
       "    if (el.title.endsWith(\".csv\")) {\n",
       "      iframe.setAttribute(\"srcdoc\", tblcss + csvToHtmlTable(this.responseText));\n",
       "    } else {\n",
       "      iframe.setAttribute(\"srcdoc\", this.responseText);\n",
       "    }\n",
       "    console.log(this.responseText);\n",
       "  }\n",
       "\n",
       "  const oReq = new XMLHttpRequest();\n",
       "  oReq.addEventListener(\"load\", reqListener);\n",
       "  oReq.open(\"GET\", el.title);\n",
       "  oReq.send();\n",
       "\n",
       "\n",
       "  //iframe.src = el.title;\n",
       "  const resultPane = document.querySelector(panelName + \"-pane\");\n",
       "  if (resultPane.classList.contains(\"hidden\")) {\n",
       "    resultPane.classList.remove(\"hidden\");\n",
       "  }\n",
       "}\n",
       "function closePanel(el) {\n",
       "  const panelName = \"#\" + el.getAttribute('paneName')\n",
       "  const resultPane = document.querySelector(panelName + \"-pane\");\n",
       "  if (!resultPane.classList.contains(\"hidden\")) {\n",
       "    resultPane.classList.add(\"hidden\");\n",
       "  }\n",
       "}\n",
       "\n",
       "</script>\n",
       "<div class=\"master-wrapper\">\n",
       "  <div class=\"block master-tbl\"><div>\n",
       "<style scoped>\n",
       "    .dataframe tbody tr th:only-of-type {\n",
       "        vertical-align: middle;\n",
       "    }\n",
       "\n",
       "    .dataframe tbody tr th {\n",
       "        vertical-align: top;\n",
       "    }\n",
       "\n",
       "    .dataframe thead th {\n",
       "        text-align: right;\n",
       "    }\n",
       "</style>\n",
       "<table border=\"1\" class=\"dataframe\">\n",
       "  <thead>\n",
       "    <tr style=\"text-align: right;\">\n",
       "      <th>project</th>\n",
       "      <th>uid</th>\n",
       "      <th>iter</th>\n",
       "      <th>start</th>\n",
       "      <th>state</th>\n",
       "      <th>name</th>\n",
       "      <th>labels</th>\n",
       "      <th>inputs</th>\n",
       "      <th>parameters</th>\n",
       "      <th>results</th>\n",
       "      <th>artifacts</th>\n",
       "    </tr>\n",
       "  </thead>\n",
       "  <tbody>\n",
       "    <tr>\n",
       "      <td>new-git-project</td>\n",
       "      <td><div title=\"c83e248868b24cd89307ee942c6ad09b\"><a href=\"http://192.168.224.227:30060/mlrun/projects/new-git-project/jobs/monitor/c83e248868b24cd89307ee942c6ad09b/overview\" target=\"_blank\" >...2c6ad09b</a></div></td>\n",
       "      <td>0</td>\n",
       "      <td>Feb 16 10:32:47</td>\n",
       "      <td>completed</td>\n",
       "      <td>trainer-train</td>\n",
       "      <td><div class=\"dictlist\">kind=job</div><div class=\"dictlist\">owner=jovyan</div><div class=\"dictlist\">mlrun/client_version=1.2.1-rc10</div><div class=\"dictlist\">host=trainer-train-nhqwn</div></td>\n",
       "      <td><div title=\"store://artifacts/new-git-project/data#0:eee38fb1d58fa5b6b6ce40df4357f4127631fb6d\">dataset</div></td>\n",
       "      <td><div class=\"dictlist\">model_class=sklearn.ensemble.RandomForestClassifier</div><div class=\"dictlist\">train_test_split_size=0.2</div><div class=\"dictlist\">label_columns=label</div><div class=\"dictlist\">model_name=model_iris</div></td>\n",
       "      <td><div class=\"dictlist\">accuracy=1.0</div><div class=\"dictlist\">f1_score=1.0</div><div class=\"dictlist\">precision_score=1.0</div><div class=\"dictlist\">recall_score=1.0</div><div class=\"dictlist\">auc-micro=1.0</div><div class=\"dictlist\">auc-macro=1.0</div><div class=\"dictlist\">auc-weighted=1.0</div></td>\n",
       "      <td><div title=\"s3://mlrun/projects/new-git-project/artifacts/trainer-train/0/feature-importance.html\">feature-importance</div><div title=\"s3://mlrun/projects/new-git-project/artifacts/trainer-train/0/test_set.parquet\">test_set</div><div title=\"s3://mlrun/projects/new-git-project/artifacts/trainer-train/0/confusion-matrix.html\">confusion-matrix</div><div title=\"s3://mlrun/projects/new-git-project/artifacts/trainer-train/0/roc-curves.html\">roc-curves</div><div title=\"s3://mlrun/projects/new-git-project/artifacts/trainer-train/0/model/\">model</div></td>\n",
       "    </tr>\n",
       "  </tbody>\n",
       "</table>\n",
       "</div></div>\n",
       "  <div id=\"resultdd0d712b-pane\" class=\"right-pane block hidden\">\n",
       "    <div class=\"pane-header\">\n",
       "      <span id=\"resultdd0d712b-title\" class=\"pane-header-title\">Title</span>\n",
       "      <span onclick=\"closePanel(this)\" paneName=\"resultdd0d712b\" class=\"close clickable\">&times;</span>\n",
       "    </div>\n",
       "    <iframe class=\"fileview\" id=\"resultdd0d712b-body\"></iframe>\n",
       "  </div>\n",
       "</div>\n"
      ],
      "text/plain": [
       "<IPython.core.display.HTML object>"
      ]
     },
     "metadata": {},
     "output_type": "display_data"
    },
    {
     "name": "stdout",
     "output_type": "stream",
     "text": [
      "\n"
     ]
    },
    {
     "data": {
      "text/html": [
       "<b> > to track results use the .show() or .logs() methods  or <a href=\"http://192.168.224.227:30060/mlrun/projects/new-git-project/jobs/monitor/c83e248868b24cd89307ee942c6ad09b/overview\" target=\"_blank\">click here</a> to open in UI</b>"
      ],
      "text/plain": [
       "<IPython.core.display.HTML object>"
      ]
     },
     "metadata": {},
     "output_type": "display_data"
    },
    {
     "name": "stdout",
     "output_type": "stream",
     "text": [
      "> 2023-02-16 10:32:58,979 [info] run executed, status=completed\n"
     ]
    }
   ],
   "source": [
    "trainer_run = project.run_function(\"trainer\",\n",
    "        inputs={\"dataset\": dataset_artifact.uri},\n",
    "        params = {\n",
    "            \"model_class\": \"sklearn.ensemble.RandomForestClassifier\",\n",
    "            \"train_test_split_size\": 0.2,\n",
    "            \"label_columns\": \"label\",\n",
    "            \"model_name\":'model_iris'}, handler='train')"
   ]
  },
  {
   "cell_type": "markdown",
   "id": "6d37c033-a79a-4595-bb2c-ff09f875b126",
   "metadata": {},
   "source": [
    "Results (metrics) and artifacts are generated and tracked automatically by MLRun, to see them, run:\n",
    "```\n",
    "trainer_run.artifact('confusion-matrix').show()\n",
    "trainer_run.outputs\n",
    "```"
   ]
  },
  {
   "cell_type": "markdown",
   "id": "391a018a-e272-432e-90f9-085fc3c46f72",
   "metadata": {},
   "source": [
    "<a id=\"register-model\"></a>\n",
    "### Register a model artifact\n",
    "Registering a model artifact in the project.yaml allows it to be further imported on project load. You have two options of doing it:\n",
    "\n",
    "1. When you want to save only the **necessary metadata** for future use (e.g key, kind, tag,  target_path) - set artifact object. We'll use this option in the current tutorial. <br><br>\n",
    "\n",
    "2. When you want to save **all metadata** (e.g also preview, metrics etc.) of the artifact for future use - set artifact YAML. This can be done with the following commands: \n",
    "```\n",
    "model_obj = project.get_artifact('model_iris')\n",
    "model_obj.export('model_iris.yaml')\n",
    "project.set_artifact('model_iris','model.yaml')\n",
    "```\n",
    "<br>"
   ]
  },
  {
   "cell_type": "code",
   "execution_count": 7,
   "id": "f82e406f-07cf-47fa-a221-8d111ab13a33",
   "metadata": {},
   "outputs": [],
   "source": [
    "target_path = project.get_artifact('model_iris').target_path\n",
    "project.set_artifact('model', mlrun.artifacts.ModelArtifact(model_file=\"model_iris.pkl\"), target_path=target_path)"
   ]
  },
  {
   "cell_type": "markdown",
   "id": "73216a1a-818d-43a9-828d-cc54463b1642",
   "metadata": {},
   "source": [
    "<a id=\"serving-function\"></a>\n",
    "### Real-time serving function (over K8S or Docker). \n",
    "\n",
    "Create a model serving function"
   ]
  },
  {
   "cell_type": "code",
   "execution_count": 8,
   "id": "17254183-c2fe-4869-a92e-8ccc1be9ccc4",
   "metadata": {},
   "outputs": [],
   "source": [
    "serving_fn = mlrun.new_function(\"serving\", image=\"mlrun/mlrun\", kind=\"serving\", requirements={})"
   ]
  },
  {
   "cell_type": "markdown",
   "id": "eec85dcd-2e62-47f5-b5e4-646fb3f8741e",
   "metadata": {},
   "source": [
    "And add a model to the serving function"
   ]
  },
  {
   "cell_type": "code",
   "execution_count": 9,
   "id": "68d0e307-5ea9-4cf7-a303-663c7b9de1cf",
   "metadata": {},
   "outputs": [
    {
     "data": {
      "text/plain": [
       "<mlrun.serving.states.TaskStep at 0x7f65b3993760>"
      ]
     },
     "execution_count": 9,
     "metadata": {},
     "output_type": "execute_result"
    }
   ],
   "source": [
    "serving_fn.add_model('iris_model',model_path=trainer_run.outputs[\"model\"], class_name='mlrun.frameworks.sklearn.SklearnModelServer')"
   ]
  },
  {
   "cell_type": "markdown",
   "id": "0eaf9876-0a31-4726-9397-cd5698723051",
   "metadata": {},
   "source": [
    "Before registering the serving function in the project (so that it can be further loaded from git) you need to first export\n",
    "its YAML, so that project YAML will look more compact (otherwise it will include the whole YAML of the serving function)"
   ]
  },
  {
   "cell_type": "code",
   "execution_count": 10,
   "id": "4e9073f1-cc2d-4a54-96f3-3ee16ff0267d",
   "metadata": {},
   "outputs": [
    {
     "name": "stdout",
     "output_type": "stream",
     "text": [
      "> 2023-02-16 10:32:59,021 [info] function spec saved to path: serving.yaml\n"
     ]
    },
    {
     "data": {
      "text/plain": [
       "<mlrun.runtimes.serving.ServingRuntime at 0x7f65b39ab0d0>"
      ]
     },
     "execution_count": 10,
     "metadata": {},
     "output_type": "execute_result"
    }
   ],
   "source": [
    "serving_fn.export('serving.yaml')\n",
    "project.set_function(func='serving.yaml',name='serving',kind='serving')"
   ]
  },
  {
   "cell_type": "markdown",
   "id": "0575390c-c66c-4b4c-9549-14a645b992f0",
   "metadata": {},
   "source": [
    "<a id=\"workflow\"></a>\n",
    "### Build and run automated ML pipelines and CI/CD\n",
    "\n",
    "A workflow is created by running an MLRun “workflow”. The workflow describes\n",
    "a directed acyclic graph (DAG) which is executed using the local, remote, or kubeflow engines. For more details see [running a multi-stage workflow](#https://docs.mlrun.org/en/latest/concepts/workflow-overview.html).\n",
    "\n",
    "Our workflow (assuming you have a src/workflow.py in your context directory) includes the following steps:\n",
    "1. Generate/prepare the data (fetch).\n",
    "2. Train and the model (train).\n",
    "3. Deploy the model as a real-time serverless function (serving).\n",
    "\n",
    "The deployment step requires Nuclio to be installed (over K8S or Docker). Use the mlrun deploy_function() method to build and deploy a Nuclio serving function from your serving-function code."
   ]
  },
  {
   "cell_type": "markdown",
   "id": "78959aee-7fa9-438b-941d-55942a1d0cb7",
   "metadata": {},
   "source": [
    "First thing add a multi-stage workflow (./src/workflow.py) to the project with the name 'main' and save the project:"
   ]
  },
  {
   "cell_type": "code",
   "execution_count": 11,
   "id": "b9a3fe20-e415-4789-b6f2-48abb5fe001d",
   "metadata": {},
   "outputs": [],
   "source": [
    "my_workflow = project.set_workflow('main', \"./src/workflow.py\")"
   ]
  },
  {
   "cell_type": "markdown",
   "id": "9113f4d5-1220-409b-9a5b-94d36de0fe13",
   "metadata": {},
   "source": [
    "Now run the workflow:"
   ]
  },
  {
   "cell_type": "code",
   "execution_count": 12,
   "id": "6047d30e-afad-4ffb-bc74-5e14d3a6e1d5",
   "metadata": {},
   "outputs": [
    {
     "data": {
      "text/html": [
       "<div>Pipeline running (id=52e71a42-0177-4598-b1c9-eea4ab85b000), <a href=\"http://192.168.224.227:30060/mlrun/projects/new-git-project/jobs/monitor-workflows/workflow/52e71a42-0177-4598-b1c9-eea4ab85b000\" target=\"_blank\"><b>click here</b></a> to view the details in MLRun UI</div>"
      ],
      "text/plain": [
       "<IPython.core.display.HTML object>"
      ]
     },
     "metadata": {},
     "output_type": "display_data"
    },
    {
     "data": {
      "image/svg+xml": [
       "<?xml version=\"1.0\" encoding=\"UTF-8\" standalone=\"no\"?>\n",
       "<!DOCTYPE svg PUBLIC \"-//W3C//DTD SVG 1.1//EN\"\n",
       " \"http://www.w3.org/Graphics/SVG/1.1/DTD/svg11.dtd\">\n",
       "<!-- Generated by graphviz version 2.43.0 (0)\n",
       " -->\n",
       "<!-- Title: kfp Pages: 1 -->\n",
       "<svg width=\"113pt\" height=\"116pt\"\n",
       " viewBox=\"0.00 0.00 113.29 116.00\" xmlns=\"http://www.w3.org/2000/svg\" xmlns:xlink=\"http://www.w3.org/1999/xlink\">\n",
       "<g id=\"graph0\" class=\"graph\" transform=\"scale(1 1) rotate(0) translate(4 112)\">\n",
       "<title>kfp</title>\n",
       "<polygon fill=\"white\" stroke=\"transparent\" points=\"-4,4 -4,-112 109.29,-112 109.29,4 -4,4\"/>\n",
       "<!-- iris&#45;git&#45;demo&#45;rpzrm&#45;1164034997 -->\n",
       "<g id=\"node1\" class=\"node\">\n",
       "<title>iris&#45;git&#45;demo&#45;rpzrm&#45;1164034997</title>\n",
       "<ellipse fill=\"green\" stroke=\"black\" cx=\"52.65\" cy=\"-90\" rx=\"52.79\" ry=\"18\"/>\n",
       "<text text-anchor=\"middle\" x=\"52.65\" y=\"-86.3\" font-family=\"Times,serif\" font-size=\"14.00\">trainer&#45;train</text>\n",
       "</g>\n",
       "<!-- iris&#45;git&#45;demo&#45;rpzrm&#45;2299305815 -->\n",
       "<g id=\"node2\" class=\"node\">\n",
       "<title>iris&#45;git&#45;demo&#45;rpzrm&#45;2299305815</title>\n",
       "<polygon fill=\"green\" stroke=\"black\" points=\"101.65,-36 7.65,-36 3.65,-32 3.65,0 97.65,0 101.65,-4 101.65,-36\"/>\n",
       "<polyline fill=\"none\" stroke=\"black\" points=\"97.65,-32 3.65,-32 \"/>\n",
       "<polyline fill=\"none\" stroke=\"black\" points=\"97.65,-32 97.65,0 \"/>\n",
       "<polyline fill=\"none\" stroke=\"black\" points=\"97.65,-32 101.65,-36 \"/>\n",
       "<text text-anchor=\"middle\" x=\"52.65\" y=\"-14.3\" font-family=\"Times,serif\" font-size=\"14.00\">deploy&#45;serving</text>\n",
       "</g>\n",
       "<!-- iris&#45;git&#45;demo&#45;rpzrm&#45;1164034997&#45;&gt;iris&#45;git&#45;demo&#45;rpzrm&#45;2299305815 -->\n",
       "<g id=\"edge1\" class=\"edge\">\n",
       "<title>iris&#45;git&#45;demo&#45;rpzrm&#45;1164034997&#45;&gt;iris&#45;git&#45;demo&#45;rpzrm&#45;2299305815</title>\n",
       "<path fill=\"none\" stroke=\"black\" d=\"M52.65,-71.7C52.65,-63.98 52.65,-54.71 52.65,-46.11\"/>\n",
       "<polygon fill=\"black\" stroke=\"black\" points=\"56.15,-46.1 52.65,-36.1 49.15,-46.1 56.15,-46.1\"/>\n",
       "</g>\n",
       "</g>\n",
       "</svg>\n"
      ],
      "text/plain": [
       "<graphviz.dot.Digraph at 0x7f65b3993340>"
      ]
     },
     "metadata": {},
     "output_type": "display_data"
    },
    {
     "data": {
      "text/html": [
       "<h2>Run Results</h2><h3>[info] Workflow 52e71a42-0177-4598-b1c9-eea4ab85b000 finished, state=Succeeded</h3><br>click the hyper links below to see detailed results<br><table border=\"1\" class=\"dataframe\">\n",
       "  <thead>\n",
       "    <tr style=\"text-align: right;\">\n",
       "      <th>uid</th>\n",
       "      <th>start</th>\n",
       "      <th>state</th>\n",
       "      <th>name</th>\n",
       "      <th>parameters</th>\n",
       "      <th>results</th>\n",
       "    </tr>\n",
       "  </thead>\n",
       "  <tbody>\n",
       "    <tr>\n",
       "      <td><div title=\"f1b182115fe24371bca3095cb98a7db9\"><a href=\"http://192.168.224.227:30060/mlrun/projects/new-git-project/jobs/monitor/f1b182115fe24371bca3095cb98a7db9/overview\" target=\"_blank\" >...b98a7db9</a></div></td>\n",
       "      <td>Feb 16 10:33:22</td>\n",
       "      <td>completed</td>\n",
       "      <td>trainer-train</td>\n",
       "      <td><div class=\"dictlist\">model_class=sklearn.ensemble.RandomForestClassifier</div><div class=\"dictlist\">train_test_split_size=0.2</div><div class=\"dictlist\">label_columns=label</div><div class=\"dictlist\">model_name=iris_model</div></td>\n",
       "      <td><div class=\"dictlist\">accuracy=1.0</div><div class=\"dictlist\">f1_score=1.0</div><div class=\"dictlist\">precision_score=1.0</div><div class=\"dictlist\">recall_score=1.0</div><div class=\"dictlist\">auc-micro=1.0</div><div class=\"dictlist\">auc-macro=1.0</div><div class=\"dictlist\">auc-weighted=1.0</div></td>\n",
       "    </tr>\n",
       "  </tbody>\n",
       "</table>"
      ],
      "text/plain": [
       "<IPython.core.display.HTML object>"
      ]
     },
     "metadata": {},
     "output_type": "display_data"
    }
   ],
   "source": [
    "run_id = project.run(\n",
    "    workflow_path=\"./src/workflow.py\",\n",
    "    name = 'main',\n",
    "    arguments={'dataset_uri':project.get_artifact('data').uri}, \n",
    "    watch=True)"
   ]
  },
  {
   "cell_type": "markdown",
   "id": "60fdc030-ff13-4d5c-824a-27564bf42539",
   "metadata": {},
   "source": [
    "Here is how a full project YAML looks now (use ```print(project.to_yaml())``` to print):\n",
    "```\n",
    "kind: project\n",
    "metadata:\n",
    "  name: new-git-project\n",
    "spec:\n",
    "  functions:\n",
    "  - url: src/trainer.py\n",
    "    name: trainer\n",
    "    kind: job\n",
    "    image: mlrun/mlrun\n",
    "    handler: train\n",
    "  - url: serving.yaml\n",
    "    name: serving\n",
    "    kind: serving\n",
    "  workflows:\n",
    "  - path: ./src/workflow.py\n",
    "    name: main\n",
    "  artifacts:\n",
    "  - kind: dataset\n",
    "    metadata:\n",
    "      project: new-git-project\n",
    "      key: data\n",
    "    spec:\n",
    "      target_path: https://s3.wasabisys.com/iguazio/data/iris/iris.data.raw.csv\n",
    "      format: ''\n",
    "    status:\n",
    "      state: created\n",
    "  - kind: model\n",
    "    metadata:\n",
    "      project: new-git-project\n",
    "      key: model\n",
    "    spec:\n",
    "      target_path: s3://mlrun/projects/new-git-project/artifacts/trainer-train/0/model/\n",
    "      model_file: model_iris.pkl\n",
    "    status:\n",
    "      state: created\n",
    "  source: git://github.com/mlrun/mlrun.git#refs/heads/master\n",
    "  origin_url: git://github.com/mlrun/mlrun.git#refs/heads/master\n",
    "  desired_state: online\n",
    "```"
   ]
  },
  {
   "cell_type": "markdown",
   "id": "88d9da91-637d-4466-b771-0a27800863d8",
   "metadata": {},
   "source": [
    "<a id=\"push\"></a>\n",
    "## Pushing project context to Git"
   ]
  },
  {
   "cell_type": "markdown",
   "id": "2efb9193-dba8-48fa-b59c-bcf83ff86f38",
   "metadata": {},
   "source": [
    "```{admonition} Note\n",
    "Your very first push you will need to do through the CLI with the following command: git push <origin> <branch>\n",
    "Github will ask for your username and token. After you provide it and push for the first time, you can do your next pushes through the SDK (and without providing Github username and token) as shown in this tutorial:\n",
    "```"
   ]
  },
  {
   "cell_type": "markdown",
   "id": "50a11815-3c3e-47cc-9a93-8231d1193f2e",
   "metadata": {},
   "source": [
    "If your remote has changed (e.g a team is working on the same branch), you need to first pull the latest code from git:"
   ]
  },
  {
   "cell_type": "code",
   "execution_count": 13,
   "id": "018f5845-886a-43a8-b880-18ae253e32b0",
   "metadata": {},
   "outputs": [],
   "source": [
    "# project.pull(\"git-mlrun\")"
   ]
  },
  {
   "cell_type": "markdown",
   "id": "3d276e9e-1ba4-4ce3-b9c5-12a75e06670a",
   "metadata": {},
   "source": [
    "```{admonition} Note\n",
    "For loading the project from a different environment you'll need to set project source. To do this use project.set_source() method:\n",
    "\n",
    "project.set_source(source=\"git_remote\",pull_at_runtime=\"True/False\",workdir=\"working_directory_in_git\")\n",
    "\n",
    "Where:\n",
    "source: valid path to git, zip, or tar file, (or None for current) e.g.\n",
    "                       git://github.com/mlrun/something.git\n",
    "                       http://some/url/file.zip\n",
    "                       \n",
    "pull_at_runtime: if True (usually during development), allows the user to retrieve the code in runtime, rather than re-build the function image every time the code changes if False (usually in production)\n",
    "\n",
    "workdir: the relative workdir path (under the context dir), for example: ./mlrun/docs/project/git-mlrun/\n",
    "```"
   ]
  },
  {
   "cell_type": "markdown",
   "id": "7a81dd6d-736c-45bf-9964-4cee748e404c",
   "metadata": {},
   "source": [
    "By default project.push pushes the project.yaml, so there is no need to include it in files_to_add, but you need to include all the other files:"
   ]
  },
  {
   "cell_type": "code",
   "execution_count": 14,
   "id": "08da6daa-51a0-4570-ad63-f57737122102",
   "metadata": {},
   "outputs": [],
   "source": [
    "# files_to_add = ['git-mlrun.ipynb','serving.yaml','src/trainer.py','src/workflow.py']"
   ]
  },
  {
   "cell_type": "markdown",
   "id": "81271dfb-bd1f-4b14-b84c-535e8544f82e",
   "metadata": {},
   "source": [
    "Now you can push your project to Git. The command also saves the project state, commits and pushes the updates to the remote git repo with all the files in files_to_add."
   ]
  },
  {
   "cell_type": "code",
   "execution_count": 15,
   "id": "54e9c116-2f7b-4131-a5f3-f71b12980c5c",
   "metadata": {},
   "outputs": [],
   "source": [
    "# project.push(branch='git-mlrun',message='project with a workflow',add=files_to_add)"
   ]
  },
  {
   "cell_type": "markdown",
   "id": "0943514f-7e74-4e5a-a7a4-9d106e5f9604",
   "metadata": {},
   "source": [
    "<a id=\"pull\"></a>\n",
    "## Pulling from Git to the project context"
   ]
  },
  {
   "cell_type": "markdown",
   "id": "2199b9bd-e91e-4296-acce-a6d3f4b3b526",
   "metadata": {},
   "source": [
    "If your remote has changed (e.g a team is working on the same branch), you need to first pull the latest code from git:"
   ]
  },
  {
   "cell_type": "code",
   "execution_count": 16,
   "id": "ce3597ba-aeb5-4c60-80c5-834dfac1e1ba",
   "metadata": {},
   "outputs": [],
   "source": [
    "# project.pull(\"git-mlrun\") "
   ]
  },
  {
   "cell_type": "markdown",
   "id": "9878cc37-3844-4ea3-a7c2-f26d601207fd",
   "metadata": {},
   "source": [
    "Congratulations! You've successfully pushed and pulled your poject from git"
   ]
  }
 ],
 "metadata": {
  "kernelspec": {
   "display_name": "Python 3",
   "language": "python",
   "name": "python3"
  },
  "language_info": {
   "codemirror_mode": {
    "name": "ipython",
    "version": 3
   },
   "file_extension": ".py",
   "mimetype": "text/x-python",
   "name": "python",
   "nbconvert_exporter": "python",
   "pygments_lexer": "ipython3",
   "version": "3.8.8"
  }
 },
 "nbformat": 4,
 "nbformat_minor": 5
}
