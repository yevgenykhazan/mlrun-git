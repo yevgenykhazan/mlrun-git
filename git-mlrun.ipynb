{
 "cells": [
  {
   "cell_type": "markdown",
   "id": "6f20bd3b",
   "metadata": {},
   "source": [
    "# Working with Git - best practices and example"
   ]
  },
  {
   "cell_type": "markdown",
   "id": "afdb39d2",
   "metadata": {},
   "source": [
    "This notebook provides an overview of developing and deploying ML applications using MLRun and Git. \n",
    "\n",
    "Tutorial steps:\n",
    "\n",
    "1) [Importing MLRun package and creating a new project.](#importing-mlrun)\n",
    "2) [Configuring Git (user name, user email and create git remote)](#configuring-git)\n",
    "3) [Developing, logging and registering ML functions and artifacts](#developing) -\n",
    "    1. [Register a dataset artifact in the project](#register-dataset)\n",
    "    2. [Train Model func - register this function object into the project, run function](#train-model)\n",
    "    3. [Register a model artifact into the project](#register-model)\n",
    "    4. [Serving func - create, add model and register the model serving function](#serving-function)\n",
    "    5. [Workflow - build, run and register a workflow (workflow includes training the model and deploying)](#workflow)\n",
    "4) [Pushing project context to Git (end of the day)](#push)\n",
    "5) [Pulling from Git to the project context (start of the day) and repeat from step 3 (if needed)](#pull)\n",
    "**Note:** any of the sub-steps in step 3 are optional. Working with Git can also apply on just one of these sub-steps. Also step 2 can come after step 3.\n",
    "\n",
    "**General:**\n",
    "Project code, metadata, and configuration are stored and versioned in source control systems like Git or archives (zip, tar) and can be loaded into your work environment or CI system with a single SDK or CLI command.\n",
    "<br> Before working with Git you need to create a repo and branch (if not master) in Git to be able to push the files to this repo. \n",
    "You can work with Git and MLRun with one of the following use-cases:\n",
    "1. If you have a git repo with files that you want to use and it\n",
    "    1. Includes the [project.yaml](#project-yaml) - use [project.load](#https://docs.mlrun.org/en/stable/projects/load-project.html) method to load the project from git (it will add the files to the project context)\n",
    "    2. Doesn't include the [project.yaml](#project-yaml) file you can clone your git repo using the CLI\n",
    "2. If you have an empty git repo, you can connect your project to git repo using ```git remote add <remote-name> <remote-url>``` in the terminal or ```project.create_remote()``` in MLRun SDK, as shown in this tutorial (step 2)"
   ]
  },
  {
   "cell_type": "markdown",
   "id": "0c093b18",
   "metadata": {},
   "source": [
    "<a id=\"importing-mlrun\"></a>\n",
    "## Importing MLRun package and creating a new project."
   ]
  },
  {
   "cell_type": "markdown",
   "id": "cd62be4d",
   "metadata": {},
   "source": [
    "First thing import the MLRun package"
   ]
  },
  {
   "cell_type": "code",
   "execution_count": 17,
   "id": "e9604758",
   "metadata": {},
   "outputs": [],
   "source": [
    "import mlrun"
   ]
  },
  {
   "cell_type": "markdown",
   "id": "be5a8f9d",
   "metadata": {},
   "source": [
    "Now create a new project or load it from git remote. The init_git flag is used to initialize git in the context dir."
   ]
  },
  {
   "cell_type": "code",
   "execution_count": 18,
   "id": "58371552",
   "metadata": {},
   "outputs": [
    {
     "name": "stdout",
     "output_type": "stream",
     "text": [
      "> 2023-03-16 13:48:22,389 [info] Deleting project new-git-project from MLRun DB due to overwrite\n",
      "> 2023-03-16 13:48:25,102 [info] Created and saved project new-git-project: {'from_template': None, 'overwrite': True, 'context': './', 'save': True}\n"
     ]
    }
   ],
   "source": [
    "project = mlrun.new_project(name='new-git-project',init_git=True, overwrite=True)"
   ]
  },
  {
   "cell_type": "markdown",
   "id": "a6e499b0",
   "metadata": {},
   "source": [
    "<a id=\"project-yaml\"></a>\n",
    "When you create/save the project it stores the project definitions in the project.yaml. This allows reconstructing the project in a remote cluster or a CI/CD system. A light project YAML looks like (use ```print(project.to_yaml())``` to print) :\n",
    "```\n",
    "kind: project\n",
    "metadata:\n",
    "  name: new-git-project\n",
    "spec:\n",
    "  functions: []\n",
    "  workflows: []\n",
    "  artifacts: []\n",
    "  source: ''\n",
    "  desired_state: online\n",
    "```"
   ]
  },
  {
   "cell_type": "markdown",
   "id": "5e6407bf",
   "metadata": {},
   "source": [
    "<a id=\"configuring-git\"></a>\n",
    "## Configuring Git"
   ]
  },
  {
   "cell_type": "markdown",
   "id": "146c10ca",
   "metadata": {},
   "source": [
    "1. To add a new remote, use the git remote add command on the terminal, in the directory your repository is stored at:\n",
    "```\n",
    "git remote add <remote-name> <remote-url>\n",
    "```    \n",
    "The git remote add command takes two arguments:\n",
    "\n",
    "    1. A unique remote name, for example, “my_awesome_new_remote_repo”\n",
    "    2. A remote URL, which you can find on the Source sub-tab of your Git repo\n",
    "\n",
    "Alternatively you can use MLRun SDK command:\n",
    "````create_remote(url, name='origin', branch=None)```   \n",
    "\n",
    "Where:\n",
    "```\n",
    "    param url:    remote git url\n",
    "    param name:   name for the remote (default is 'origin')\n",
    "    param branch: Git branch to use as source (optional)\n",
    "```\n",
    "Note that you cannot run this command if there is an existing remote with the same name (run this command only once!)"
   ]
  },
  {
   "cell_type": "markdown",
   "id": "2b86f76b",
   "metadata": {},
   "source": [
    "2. If you are using containerized Jupyter you also need to set your Git parameters, using the following commands in the CLI\n",
    "```\n",
    "git config --global user.email \"<my@email.com>\"\n",
    "git config --global user.name \"<name>\"\n",
    "git config --global credential.helper store\n",
    "```"
   ]
  },
  {
   "cell_type": "markdown",
   "id": "566337ff",
   "metadata": {},
   "source": [
    "<a id=\"developing\"></a>\n",
    "## Developing and logging ML functions and artifacts"
   ]
  },
  {
   "cell_type": "markdown",
   "id": "f91030ed",
   "metadata": {},
   "source": [
    "In this section you are going to add functions, workflows and artifacts to [project.yaml](#project-yaml) so that it will contain all project metadata and links to:\n",
    "\n",
    "1. **artifacts** (artifacts, datasets, models) - set artifact allows the user to load the project with the artifact metadata (it points to the artifact file in a remote storage e.g S3)\n",
    "2. **functions** - set function to a project allows the user to run the function in a remote cluster, every time the project is loaded\n",
    "3. **workflows** - set workflow to a project allows the user to run the workflow in a remote cluster, every time the project is loaded\n"
   ]
  },
  {
   "cell_type": "markdown",
   "id": "e7d2de33",
   "metadata": {},
   "source": [
    "<a id=\"register-dataset\"></a>\n",
    "### Register a dataset artifact"
   ]
  },
  {
   "cell_type": "markdown",
   "id": "214c778d",
   "metadata": {},
   "source": [
    "Register an artifact in the project.yaml, so that it can be further imported on project load"
   ]
  },
  {
   "cell_type": "code",
   "execution_count": 19,
   "id": "9a3ec169",
   "metadata": {
    "tags": []
   },
   "outputs": [],
   "source": [
    "data_url = mlrun.get_sample_path('data/iris/iris.data.raw.csv')\n",
    "x=project.set_artifact('data', artifact=mlrun.artifacts.DatasetArtifact(),target_path=data_url)  "
   ]
  },
  {
   "cell_type": "code",
   "execution_count": null,
   "id": "4499217f",
   "metadata": {},
   "outputs": [],
   "source": []
  },
  {
   "cell_type": "markdown",
   "id": "007430e5",
   "metadata": {},
   "source": [
    "Save the artifact in MLRun DB (sync artficats metadata from the project.yaml to MLRun db), so that it can be further used as an input for the train model function"
   ]
  },
  {
   "cell_type": "code",
   "execution_count": 20,
   "id": "ef777e2b",
   "metadata": {},
   "outputs": [],
   "source": [
    "project.register_artifacts()\n",
    "dataset_artifact = project.get_artifact('data') "
   ]
  },
  {
   "cell_type": "code",
   "execution_count": 21,
   "id": "16d8641b",
   "metadata": {},
   "outputs": [
    {
     "name": "stdout",
     "output_type": "stream",
     "text": [
      "kind: dataset\n",
      "metadata:\n",
      "  key: data\n",
      "  project: new-git-project\n",
      "  iter: 0\n",
      "  tree: latest\n",
      "  tag: latest\n",
      "  updated: '2023-03-16T13:48:25.141105+00:00'\n",
      "spec:\n",
      "  target_path: https://s3.wasabisys.com/iguazio/data/iris/iris.data.raw.csv\n",
      "  format: ''\n",
      "  db_key: data\n",
      "  producer:\n",
      "    kind: project\n",
      "    name: new-git-project\n",
      "    tag: latest\n",
      "  sources: []\n",
      "  license: ''\n",
      "status:\n",
      "  state: created\n",
      "\n"
     ]
    }
   ],
   "source": [
    "print(dataset_artifact.to_yaml())"
   ]
  },
  {
   "cell_type": "markdown",
   "id": "998794fa",
   "metadata": {},
   "source": [
    "```{admonition} Note\n",
    "In case you have a src/fetch_data.py in your context directory that prepares your data, you'll need to first create a serverless function object from src/fetch_data.py, register it in the project.yaml and run:\n",
    "\n",
    "fetch_data_fn = project.set_function(\"src/fetch_data.py\", name=\"fetch_data\", kind=\"job\", image=\"mlrun/mlrun\", handler=\"fetch_data\")\n",
    "project.save()\n",
    "fetch_data_run_remotely = project.run_function(\"fetch_data\",inputs={'dataset':project.get_artifact('data').uri})\n",
    "```"
   ]
  },
  {
   "cell_type": "markdown",
   "id": "a515fc5d",
   "metadata": {},
   "source": [
    "<a id=\"train-model\"></a>\n",
    "### Train Model function\n",
    "\n",
    "Assuming you have a src/trainer.py in your context directory\n",
    "\n",
    "The other option is to use the auto_trainer function form the hub:\n",
    "```trainer = project.set_function(func=\"hub://auto_trainer\")```\n",
    "\n",
    "Create a serverless function object from src/trainer.py, and register it in the project.yaml"
   ]
  },
  {
   "cell_type": "code",
   "execution_count": 22,
   "id": "e998752b",
   "metadata": {},
   "outputs": [],
   "source": [
    "trainer = project.set_function(func=\"src/trainer.py\", name=\"trainer\", kind=\"job\", image=\"mlrun/mlrun\", handler=\"train\")"
   ]
  },
  {
   "cell_type": "markdown",
   "id": "2874cb14",
   "metadata": {},
   "source": [
    "```{admonition} Note\n",
    "\n",
    "Users who already have their code files in Git repo and want to run the code files only from there can add \"with_repo\" flag to project.set_function (see example below). In this case, the contents of the Git repo or archive will be available in the current working directory of your MLRun function during runtime. In other words the \"with_repo\" flag automatically clones the git repo from the project source to your running container and then runs these code files within the container. \n",
    "An advantage of this approach is that it allows users to set a relative path to the handler function without the need to handle with file paths in the local directory (e.g folder-name.file-name.function-handler). For example:\n",
    "\n",
    "project.set_function(name=\"train\", handler=\"src.trainer.train\",  image=\"mlrun/mlrun\", kind=\"job\", with_repo=True)\n",
    "\n",
    "```"
   ]
  },
  {
   "cell_type": "markdown",
   "id": "ef9b8b20",
   "metadata": {},
   "source": [
    "Run the function on the remote cluster (for running locally, add \"Local = True\" in project.run_function)"
   ]
  },
  {
   "cell_type": "code",
   "execution_count": 23,
   "id": "3d1cc884",
   "metadata": {},
   "outputs": [
    {
     "name": "stdout",
     "output_type": "stream",
     "text": [
      "> 2023-03-16 13:48:25,240 [warning] it is recommended to use k8s secret (specify secret_name), specifying the aws_access_key/aws_secret_key directly is unsafe\n",
      "> 2023-03-16 13:48:25,255 [info] Storing function: {'name': 'trainer-train', 'uid': '5c82ab1eb827407eaeab2221fb608b73', 'db': 'http://mlrun-api:8080'}\n",
      "> 2023-03-16 13:48:25,760 [info] Job is running in the background, pod: trainer-train-4jntz\n",
      "> 2023-03-16 13:48:43,055 [info] To track results use the CLI: {'info_cmd': 'mlrun get run 5c82ab1eb827407eaeab2221fb608b73 -p new-git-project', 'logs_cmd': 'mlrun logs 5c82ab1eb827407eaeab2221fb608b73 -p new-git-project'}\n",
      "> 2023-03-16 13:48:43,055 [info] run executed, status=completed: {'name': 'trainer-train'}\n",
      "final state: completed\n"
     ]
    },
    {
     "data": {
      "text/html": [
       "<style>\n",
       ".dictlist {\n",
       "  background-color: #4EC64B;\n",
       "  text-align: center;\n",
       "  margin: 4px;\n",
       "  border-radius: 3px; padding: 0px 3px 1px 3px; display: inline-block;}\n",
       ".artifact {\n",
       "  cursor: pointer;\n",
       "  background-color: #4EC64B;\n",
       "  text-align: left;\n",
       "  margin: 4px; border-radius: 3px; padding: 0px 3px 1px 3px; display: inline-block;\n",
       "}\n",
       "div.block.hidden {\n",
       "  display: none;\n",
       "}\n",
       ".clickable {\n",
       "  cursor: pointer;\n",
       "}\n",
       ".ellipsis {\n",
       "  display: inline-block;\n",
       "  max-width: 60px;\n",
       "  white-space: nowrap;\n",
       "  overflow: hidden;\n",
       "  text-overflow: ellipsis;\n",
       "}\n",
       ".master-wrapper {\n",
       "  display: flex;\n",
       "  flex-flow: row nowrap;\n",
       "  justify-content: flex-start;\n",
       "  align-items: stretch;\n",
       "}\n",
       ".master-tbl {\n",
       "  flex: 3\n",
       "}\n",
       ".master-wrapper > div {\n",
       "  margin: 4px;\n",
       "  padding: 10px;\n",
       "}\n",
       "iframe.fileview {\n",
       "  border: 0 none;\n",
       "  height: 100%;\n",
       "  width: 100%;\n",
       "  white-space: pre-wrap;\n",
       "}\n",
       ".pane-header-title {\n",
       "  width: 80%;\n",
       "  font-weight: 500;\n",
       "}\n",
       ".pane-header {\n",
       "  line-height: 1;\n",
       "  background-color: #4EC64B;\n",
       "  padding: 3px;\n",
       "}\n",
       ".pane-header .close {\n",
       "  font-size: 20px;\n",
       "  font-weight: 700;\n",
       "  float: right;\n",
       "  margin-top: -5px;\n",
       "}\n",
       ".master-wrapper .right-pane {\n",
       "  border: 1px inset silver;\n",
       "  width: 40%;\n",
       "  min-height: 300px;\n",
       "  flex: 3\n",
       "  min-width: 500px;\n",
       "}\n",
       ".master-wrapper * {\n",
       "  box-sizing: border-box;\n",
       "}\n",
       "</style><script>\n",
       "function copyToClipboard(fld) {\n",
       "    if (document.queryCommandSupported && document.queryCommandSupported('copy')) {\n",
       "        var textarea = document.createElement('textarea');\n",
       "        textarea.textContent = fld.innerHTML;\n",
       "        textarea.style.position = 'fixed';\n",
       "        document.body.appendChild(textarea);\n",
       "        textarea.select();\n",
       "\n",
       "        try {\n",
       "            return document.execCommand('copy'); // Security exception may be thrown by some browsers.\n",
       "        } catch (ex) {\n",
       "\n",
       "        } finally {\n",
       "            document.body.removeChild(textarea);\n",
       "        }\n",
       "    }\n",
       "}\n",
       "function expandPanel(el) {\n",
       "  const panelName = \"#\" + el.getAttribute('paneName');\n",
       "  console.log(el.title);\n",
       "\n",
       "  document.querySelector(panelName + \"-title\").innerHTML = el.title\n",
       "  iframe = document.querySelector(panelName + \"-body\");\n",
       "\n",
       "  const tblcss = `<style> body { font-family: Arial, Helvetica, sans-serif;}\n",
       "    #csv { margin-bottom: 15px; }\n",
       "    #csv table { border-collapse: collapse;}\n",
       "    #csv table td { padding: 4px 8px; border: 1px solid silver;} </style>`;\n",
       "\n",
       "  function csvToHtmlTable(str) {\n",
       "    return '<div id=\"csv\"><table><tr><td>' +  str.replace(/[\\n\\r]+$/g, '').replace(/[\\n\\r]+/g, '</td></tr><tr><td>')\n",
       "      .replace(/,/g, '</td><td>') + '</td></tr></table></div>';\n",
       "  }\n",
       "\n",
       "  function reqListener () {\n",
       "    if (el.title.endsWith(\".csv\")) {\n",
       "      iframe.setAttribute(\"srcdoc\", tblcss + csvToHtmlTable(this.responseText));\n",
       "    } else {\n",
       "      iframe.setAttribute(\"srcdoc\", this.responseText);\n",
       "    }\n",
       "    console.log(this.responseText);\n",
       "  }\n",
       "\n",
       "  const oReq = new XMLHttpRequest();\n",
       "  oReq.addEventListener(\"load\", reqListener);\n",
       "  oReq.open(\"GET\", el.title);\n",
       "  oReq.send();\n",
       "\n",
       "\n",
       "  //iframe.src = el.title;\n",
       "  const resultPane = document.querySelector(panelName + \"-pane\");\n",
       "  if (resultPane.classList.contains(\"hidden\")) {\n",
       "    resultPane.classList.remove(\"hidden\");\n",
       "  }\n",
       "}\n",
       "function closePanel(el) {\n",
       "  const panelName = \"#\" + el.getAttribute('paneName')\n",
       "  const resultPane = document.querySelector(panelName + \"-pane\");\n",
       "  if (!resultPane.classList.contains(\"hidden\")) {\n",
       "    resultPane.classList.add(\"hidden\");\n",
       "  }\n",
       "}\n",
       "\n",
       "</script>\n",
       "<div class=\"master-wrapper\">\n",
       "  <div class=\"block master-tbl\"><div>\n",
       "<style scoped>\n",
       "    .dataframe tbody tr th:only-of-type {\n",
       "        vertical-align: middle;\n",
       "    }\n",
       "\n",
       "    .dataframe tbody tr th {\n",
       "        vertical-align: top;\n",
       "    }\n",
       "\n",
       "    .dataframe thead th {\n",
       "        text-align: right;\n",
       "    }\n",
       "</style>\n",
       "<table border=\"1\" class=\"dataframe\">\n",
       "  <thead>\n",
       "    <tr style=\"text-align: right;\">\n",
       "      <th>project</th>\n",
       "      <th>uid</th>\n",
       "      <th>iter</th>\n",
       "      <th>start</th>\n",
       "      <th>state</th>\n",
       "      <th>name</th>\n",
       "      <th>labels</th>\n",
       "      <th>inputs</th>\n",
       "      <th>parameters</th>\n",
       "      <th>results</th>\n",
       "      <th>artifacts</th>\n",
       "    </tr>\n",
       "  </thead>\n",
       "  <tbody>\n",
       "    <tr>\n",
       "      <td>new-git-project</td>\n",
       "      <td><div title=\"5c82ab1eb827407eaeab2221fb608b73\"><a href=\"http://192.168.224.227:30060/mlrun/projects/new-git-project/jobs/monitor/5c82ab1eb827407eaeab2221fb608b73/overview\" target=\"_blank\" >...fb608b73</a></div></td>\n",
       "      <td>0</td>\n",
       "      <td>Mar 16 13:48:36</td>\n",
       "      <td>completed</td>\n",
       "      <td>trainer-train</td>\n",
       "      <td><div class=\"dictlist\">kind=job</div><div class=\"dictlist\">owner=jovyan</div><div class=\"dictlist\">mlrun/client_version=1.3.0-rc37</div><div class=\"dictlist\">mlrun/client_python_version=3.9.13</div><div class=\"dictlist\">host=trainer-train-4jntz</div></td>\n",
       "      <td><div title=\"store://artifacts/new-git-project/data#0:latest\">dataset</div></td>\n",
       "      <td><div class=\"dictlist\">model_class=sklearn.ensemble.RandomForestClassifier</div><div class=\"dictlist\">train_test_split_size=0.2</div><div class=\"dictlist\">label_columns=label</div><div class=\"dictlist\">model_name=model_iris</div></td>\n",
       "      <td><div class=\"dictlist\">accuracy=1.0</div><div class=\"dictlist\">f1_score=1.0</div><div class=\"dictlist\">precision_score=1.0</div><div class=\"dictlist\">recall_score=1.0</div><div class=\"dictlist\">auc-micro=1.0</div><div class=\"dictlist\">auc-macro=1.0</div><div class=\"dictlist\">auc-weighted=1.0</div></td>\n",
       "      <td><div title=\"s3://mlrun/projects/new-git-project/artifacts/trainer-train/0/feature-importance.html\">feature-importance</div><div title=\"s3://mlrun/projects/new-git-project/artifacts/trainer-train/0/test_set.parquet\">test_set</div><div title=\"s3://mlrun/projects/new-git-project/artifacts/trainer-train/0/confusion-matrix.html\">confusion-matrix</div><div title=\"s3://mlrun/projects/new-git-project/artifacts/trainer-train/0/roc-curves.html\">roc-curves</div><div title=\"s3://mlrun/projects/new-git-project/artifacts/trainer-train/0/model/\">model</div></td>\n",
       "    </tr>\n",
       "  </tbody>\n",
       "</table>\n",
       "</div></div>\n",
       "  <div id=\"result27a2a189-pane\" class=\"right-pane block hidden\">\n",
       "    <div class=\"pane-header\">\n",
       "      <span id=\"result27a2a189-title\" class=\"pane-header-title\">Title</span>\n",
       "      <span onclick=\"closePanel(this)\" paneName=\"result27a2a189\" class=\"close clickable\">&times;</span>\n",
       "    </div>\n",
       "    <iframe class=\"fileview\" id=\"result27a2a189-body\"></iframe>\n",
       "  </div>\n",
       "</div>\n"
      ],
      "text/plain": [
       "<IPython.core.display.HTML object>"
      ]
     },
     "metadata": {},
     "output_type": "display_data"
    },
    {
     "name": "stdout",
     "output_type": "stream",
     "text": [
      "\n"
     ]
    },
    {
     "data": {
      "text/html": [
       "<b> > to track results use the .show() or .logs() methods  or <a href=\"http://192.168.224.227:30060/mlrun/projects/new-git-project/jobs/monitor/5c82ab1eb827407eaeab2221fb608b73/overview\" target=\"_blank\">click here</a> to open in UI</b>"
      ],
      "text/plain": [
       "<IPython.core.display.HTML object>"
      ]
     },
     "metadata": {},
     "output_type": "display_data"
    },
    {
     "name": "stdout",
     "output_type": "stream",
     "text": [
      "> 2023-03-16 13:48:47,046 [info] run executed, status=completed: {'name': 'trainer-train'}\n"
     ]
    }
   ],
   "source": [
    "trainer_run = project.run_function(\"trainer\",\n",
    "        inputs={\"dataset\": dataset_artifact.uri},\n",
    "        params = {\n",
    "            \"model_class\": \"sklearn.ensemble.RandomForestClassifier\",\n",
    "            \"train_test_split_size\": 0.2,\n",
    "            \"label_columns\": \"label\",\n",
    "            \"model_name\":'model_iris'}, handler='train')"
   ]
  },
  {
   "cell_type": "markdown",
   "id": "527aa3c0",
   "metadata": {},
   "source": [
    "Results (metrics) and artifacts are generated and tracked automatically by MLRun, to see them, run:\n",
    "```\n",
    "trainer_run.artifact('confusion-matrix').show()\n",
    "trainer_run.outputs\n",
    "```"
   ]
  },
  {
   "cell_type": "markdown",
   "id": "82508648",
   "metadata": {},
   "source": [
    "<a id=\"register-model\"></a>\n",
    "### Register a model artifact\n",
    "Registering a model artifact in the project.yaml allows it to be further imported on project load. You have two options of doing it:\n",
    "\n",
    "1. When you want to save only the **necessary metadata** for future use (e.g key, kind, tag,  target_path) - set artifact object. We'll use this option in the current tutorial. <br><br>\n",
    "\n",
    "2. When you want to save **all metadata** (e.g also preview, metrics etc.) of the artifact for future use - set artifact YAML. This can be done with the following commands: \n",
    "```\n",
    "model_obj = project.get_artifact('model_iris')\n",
    "model_obj.export('model_iris.yaml')\n",
    "project.set_artifact('model_iris','model.yaml')\n",
    "```\n",
    "<br>"
   ]
  },
  {
   "cell_type": "code",
   "execution_count": 24,
   "id": "ab3bfd5e",
   "metadata": {},
   "outputs": [],
   "source": [
    "target_path = project.get_artifact('model_iris').target_path\n",
    "project.set_artifact('model', mlrun.artifacts.ModelArtifact(model_file=\"model_iris.pkl\"), target_path=target_path)"
   ]
  },
  {
   "cell_type": "markdown",
   "id": "e674a870",
   "metadata": {},
   "source": [
    "<a id=\"serving-function\"></a>\n",
    "### Real-time serving function (over K8S or Docker). \n",
    "\n",
    "Create a model serving function"
   ]
  },
  {
   "cell_type": "code",
   "execution_count": 25,
   "id": "91420346",
   "metadata": {},
   "outputs": [],
   "source": [
    "serving_fn = mlrun.new_function(\"serving\", image=\"mlrun/mlrun\", kind=\"serving\", requirements={})"
   ]
  },
  {
   "cell_type": "markdown",
   "id": "44781214",
   "metadata": {},
   "source": [
    "And add a model to the serving function"
   ]
  },
  {
   "cell_type": "code",
   "execution_count": 26,
   "id": "8804ce9e",
   "metadata": {},
   "outputs": [
    {
     "data": {
      "text/plain": [
       "<mlrun.serving.states.TaskStep at 0x7f06279d6400>"
      ]
     },
     "execution_count": 26,
     "metadata": {},
     "output_type": "execute_result"
    }
   ],
   "source": [
    "serving_fn.add_model('iris_model',model_path=trainer_run.outputs[\"model\"], class_name='mlrun.frameworks.sklearn.SklearnModelServer')"
   ]
  },
  {
   "cell_type": "markdown",
   "id": "de62d597",
   "metadata": {},
   "source": [
    "Before registering the serving function in the project (so that it can be further loaded from git) you need to first export\n",
    "its YAML, so that project YAML will look more compact (otherwise it will include the whole YAML of the serving function)"
   ]
  },
  {
   "cell_type": "code",
   "execution_count": 27,
   "id": "61e5a4d3",
   "metadata": {},
   "outputs": [
    {
     "name": "stdout",
     "output_type": "stream",
     "text": [
      "> 2023-03-16 13:48:47,108 [info] function spec saved to path: serving.yaml\n"
     ]
    },
    {
     "data": {
      "text/plain": [
       "<mlrun.runtimes.serving.ServingRuntime at 0x7f06279d6f40>"
      ]
     },
     "execution_count": 27,
     "metadata": {},
     "output_type": "execute_result"
    }
   ],
   "source": [
    "serving_fn.export('serving.yaml')\n",
    "project.set_function(func='serving.yaml',name='serving',kind='serving')"
   ]
  },
  {
   "cell_type": "markdown",
   "id": "9b6e631b",
   "metadata": {},
   "source": [
    "<a id=\"workflow\"></a>\n",
    "### Build and run automated ML pipelines and CI/CD\n",
    "\n",
    "A workflow is created by running an MLRun “workflow”. The workflow describes\n",
    "a directed acyclic graph (DAG) which is executed using the local, remote, or kubeflow engines. For more details see [running a multi-stage workflow](#https://docs.mlrun.org/en/latest/concepts/workflow-overview.html).\n",
    "\n",
    "Our workflow (assuming you have a src/workflow.py in your context directory) includes the following steps:\n",
    "1. Generate/prepare the data (fetch).\n",
    "2. Train and the model (train).\n",
    "3. Deploy the model as a real-time serverless function (serving).\n",
    "\n",
    "The deployment step requires Nuclio to be installed (over K8S or Docker). Use the mlrun deploy_function() method to build and deploy a Nuclio serving function from your serving-function code."
   ]
  },
  {
   "cell_type": "markdown",
   "id": "01203760",
   "metadata": {},
   "source": [
    "First thing add a multi-stage workflow (./src/workflow.py) to the project with the name 'main' and save the project:"
   ]
  },
  {
   "cell_type": "code",
   "execution_count": 28,
   "id": "20d5c18d",
   "metadata": {},
   "outputs": [],
   "source": [
    "my_workflow = project.set_workflow('main', \"./src/workflow.py\")"
   ]
  },
  {
   "cell_type": "markdown",
   "id": "a83c37bd",
   "metadata": {},
   "source": [
    "Now run the workflow:"
   ]
  },
  {
   "cell_type": "code",
   "execution_count": 29,
   "id": "fede67e1",
   "metadata": {},
   "outputs": [
    {
     "data": {
      "text/html": [
       "<div>Pipeline running (id=e8f77b0f-15b1-4c9b-8305-7b80dcd23908), <a href=\"http://192.168.224.227:30060/mlrun/projects/new-git-project/jobs/monitor-workflows/workflow/e8f77b0f-15b1-4c9b-8305-7b80dcd23908\" target=\"_blank\"><b>click here</b></a> to view the details in MLRun UI</div>"
      ],
      "text/plain": [
       "<IPython.core.display.HTML object>"
      ]
     },
     "metadata": {},
     "output_type": "display_data"
    },
    {
     "data": {
      "image/svg+xml": [
       "<?xml version=\"1.0\" encoding=\"UTF-8\" standalone=\"no\"?>\n",
       "<!DOCTYPE svg PUBLIC \"-//W3C//DTD SVG 1.1//EN\"\n",
       " \"http://www.w3.org/Graphics/SVG/1.1/DTD/svg11.dtd\">\n",
       "<!-- Generated by graphviz version 2.43.0 (0)\n",
       " -->\n",
       "<!-- Title: kfp Pages: 1 -->\n",
       "<svg width=\"113pt\" height=\"116pt\"\n",
       " viewBox=\"0.00 0.00 113.29 116.00\" xmlns=\"http://www.w3.org/2000/svg\" xmlns:xlink=\"http://www.w3.org/1999/xlink\">\n",
       "<g id=\"graph0\" class=\"graph\" transform=\"scale(1 1) rotate(0) translate(4 112)\">\n",
       "<title>kfp</title>\n",
       "<polygon fill=\"white\" stroke=\"transparent\" points=\"-4,4 -4,-112 109.29,-112 109.29,4 -4,4\"/>\n",
       "<!-- iris&#45;git&#45;demo&#45;gzv92&#45;3365986998 -->\n",
       "<g id=\"node1\" class=\"node\">\n",
       "<title>iris&#45;git&#45;demo&#45;gzv92&#45;3365986998</title>\n",
       "<ellipse fill=\"green\" stroke=\"black\" cx=\"52.65\" cy=\"-90\" rx=\"52.79\" ry=\"18\"/>\n",
       "<text text-anchor=\"middle\" x=\"52.65\" y=\"-86.3\" font-family=\"Times,serif\" font-size=\"14.00\">trainer&#45;train</text>\n",
       "</g>\n",
       "<!-- iris&#45;git&#45;demo&#45;gzv92&#45;897984610 -->\n",
       "<g id=\"node2\" class=\"node\">\n",
       "<title>iris&#45;git&#45;demo&#45;gzv92&#45;897984610</title>\n",
       "<polygon fill=\"green\" stroke=\"black\" points=\"101.65,-36 7.65,-36 3.65,-32 3.65,0 97.65,0 101.65,-4 101.65,-36\"/>\n",
       "<polyline fill=\"none\" stroke=\"black\" points=\"97.65,-32 3.65,-32 \"/>\n",
       "<polyline fill=\"none\" stroke=\"black\" points=\"97.65,-32 97.65,0 \"/>\n",
       "<polyline fill=\"none\" stroke=\"black\" points=\"97.65,-32 101.65,-36 \"/>\n",
       "<text text-anchor=\"middle\" x=\"52.65\" y=\"-14.3\" font-family=\"Times,serif\" font-size=\"14.00\">deploy&#45;serving</text>\n",
       "</g>\n",
       "<!-- iris&#45;git&#45;demo&#45;gzv92&#45;3365986998&#45;&gt;iris&#45;git&#45;demo&#45;gzv92&#45;897984610 -->\n",
       "<g id=\"edge1\" class=\"edge\">\n",
       "<title>iris&#45;git&#45;demo&#45;gzv92&#45;3365986998&#45;&gt;iris&#45;git&#45;demo&#45;gzv92&#45;897984610</title>\n",
       "<path fill=\"none\" stroke=\"black\" d=\"M52.65,-71.7C52.65,-63.98 52.65,-54.71 52.65,-46.11\"/>\n",
       "<polygon fill=\"black\" stroke=\"black\" points=\"56.15,-46.1 52.65,-36.1 49.15,-46.1 56.15,-46.1\"/>\n",
       "</g>\n",
       "</g>\n",
       "</svg>\n"
      ],
      "text/plain": [
       "<graphviz.graphs.Digraph at 0x7f0621fc9c70>"
      ]
     },
     "metadata": {},
     "output_type": "display_data"
    },
    {
     "data": {
      "text/html": [
       "<h2>Run Results</h2><h3>[info] Workflow e8f77b0f-15b1-4c9b-8305-7b80dcd23908 finished, state=Succeeded</h3><br>click the hyper links below to see detailed results<br><table border=\"1\" class=\"dataframe\">\n",
       "  <thead>\n",
       "    <tr style=\"text-align: right;\">\n",
       "      <th>uid</th>\n",
       "      <th>start</th>\n",
       "      <th>state</th>\n",
       "      <th>name</th>\n",
       "      <th>parameters</th>\n",
       "      <th>results</th>\n",
       "    </tr>\n",
       "  </thead>\n",
       "  <tbody>\n",
       "    <tr>\n",
       "      <td><div title=\"331ce18391a64e91a8e1502745fee19e\"><a href=\"http://192.168.224.227:30060/mlrun/projects/new-git-project/jobs/monitor/331ce18391a64e91a8e1502745fee19e/overview\" target=\"_blank\" >...45fee19e</a></div></td>\n",
       "      <td>Mar 16 13:49:04</td>\n",
       "      <td>completed</td>\n",
       "      <td>trainer-train</td>\n",
       "      <td><div class=\"dictlist\">model_class=sklearn.ensemble.RandomForestClassifier</div><div class=\"dictlist\">train_test_split_size=0.2</div><div class=\"dictlist\">label_columns=label</div><div class=\"dictlist\">model_name=iris_model</div></td>\n",
       "      <td><div class=\"dictlist\">accuracy=1.0</div><div class=\"dictlist\">f1_score=1.0</div><div class=\"dictlist\">precision_score=1.0</div><div class=\"dictlist\">recall_score=1.0</div><div class=\"dictlist\">auc-micro=1.0</div><div class=\"dictlist\">auc-macro=1.0</div><div class=\"dictlist\">auc-weighted=1.0</div></td>\n",
       "    </tr>\n",
       "  </tbody>\n",
       "</table>"
      ],
      "text/plain": [
       "<IPython.core.display.HTML object>"
      ]
     },
     "metadata": {},
     "output_type": "display_data"
    }
   ],
   "source": [
    "run_id = project.run(\n",
    "    workflow_path=\"./src/workflow.py\",\n",
    "    name = 'main',\n",
    "    arguments={'dataset_uri':project.get_artifact('data').uri}, \n",
    "    watch=True)"
   ]
  },
  {
   "cell_type": "markdown",
   "id": "0fea4b78",
   "metadata": {},
   "source": [
    "Here is how a full project YAML looks now (use ```print(project.to_yaml())``` to print):\n",
    "```\n",
    "kind: project\n",
    "metadata:\n",
    "  name: new-git-project\n",
    "spec:\n",
    "  functions:\n",
    "  - url: src/trainer.py\n",
    "    name: trainer\n",
    "    kind: job\n",
    "    image: mlrun/mlrun\n",
    "    handler: train\n",
    "  - url: serving.yaml\n",
    "    name: serving\n",
    "    kind: serving\n",
    "  workflows:\n",
    "  - path: ./src/workflow.py\n",
    "    name: main\n",
    "  artifacts:\n",
    "  - kind: dataset\n",
    "    metadata:\n",
    "      project: new-git-project\n",
    "      key: data\n",
    "    spec:\n",
    "      target_path: https://s3.wasabisys.com/iguazio/data/iris/iris.data.raw.csv\n",
    "      format: ''\n",
    "    status:\n",
    "      state: created\n",
    "  - kind: model\n",
    "    metadata:\n",
    "      project: new-git-project\n",
    "      key: model\n",
    "    spec:\n",
    "      target_path: s3://mlrun/projects/new-git-project/artifacts/trainer-train/0/model/\n",
    "      model_file: model_iris.pkl\n",
    "    status:\n",
    "      state: created\n",
    "  source: git://github.com/mlrun/mlrun.git#refs/heads/master\n",
    "  origin_url: git://github.com/mlrun/mlrun.git#refs/heads/master\n",
    "  desired_state: online\n",
    "```"
   ]
  },
  {
   "cell_type": "markdown",
   "id": "3664b979",
   "metadata": {},
   "source": [
    "<a id=\"push\"></a>\n",
    "## Pushing project context to Git"
   ]
  },
  {
   "cell_type": "markdown",
   "id": "02f9d609",
   "metadata": {},
   "source": [
    "```{admonition} Note\n",
    "Your very first push you will need to do through the CLI with the following command: git push <origin> <branch>\n",
    "Github will ask for your username and token. After you provide it and push for the first time, you can do your next pushes through the SDK (and without providing Github username and token) as shown in this tutorial:\n",
    "```"
   ]
  },
  {
   "cell_type": "markdown",
   "id": "2b64859f",
   "metadata": {},
   "source": [
    "If your remote has changed (e.g a team is working on the same branch), you need to first pull the latest code from git:"
   ]
  },
  {
   "cell_type": "code",
   "execution_count": 30,
   "id": "fdd70916",
   "metadata": {},
   "outputs": [
    {
     "name": "stdout",
     "output_type": "stream",
     "text": [
      "kind: project\n",
      "metadata:\n",
      "  name: new-git-project\n",
      "spec:\n",
      "  functions:\n",
      "  - url: src/trainer.py\n",
      "    name: trainer\n",
      "    kind: job\n",
      "    image: mlrun/mlrun\n",
      "    handler: train\n",
      "  - url: serving.yaml\n",
      "    name: serving\n",
      "    kind: serving\n",
      "  workflows:\n",
      "  - path: ./src/workflow.py\n",
      "    name: main\n",
      "  artifacts:\n",
      "  - kind: dataset\n",
      "    metadata:\n",
      "      project: new-git-project\n",
      "      key: data\n",
      "    spec:\n",
      "      target_path: https://s3.wasabisys.com/iguazio/data/iris/iris.data.raw.csv\n",
      "      format: ''\n",
      "    status:\n",
      "      state: created\n",
      "  - kind: model\n",
      "    metadata:\n",
      "      project: new-git-project\n",
      "      key: model\n",
      "    spec:\n",
      "      target_path: s3://mlrun/projects/new-git-project/artifacts/trainer-train/0/model/\n",
      "      model_file: model_iris.pkl\n",
      "    status:\n",
      "      state: created\n",
      "  conda: ''\n",
      "  source: git://github.com/yevgenykhazan/mlrun-git.git#refs/heads/master\n",
      "  origin_url: git://github.com/yevgenykhazan/mlrun-git.git#refs/heads/master\n",
      "  desired_state: online\n",
      "\n"
     ]
    }
   ],
   "source": [
    "print(project.to_yaml())\n",
    "# project.pull(\"git-mlrun\")"
   ]
  },
  {
   "cell_type": "markdown",
   "id": "0548f497",
   "metadata": {},
   "source": [
    "```{admonition} Note\n",
    "For loading the project from a different environment you'll need to set project source. To do this use project.set_source() method:\n",
    "\n",
    "project.set_source(source=\"git_remote\",pull_at_runtime=\"True/False\",workdir=\"working_directory_in_git\")\n",
    "\n",
    "Where:\n",
    "source: valid path to git, zip, or tar file, (or None for current) e.g.\n",
    "                       git://github.com/mlrun/something.git\n",
    "                       http://some/url/file.zip\n",
    "                       \n",
    "pull_at_runtime: if True (usually during development), allows the user to retrieve the code in runtime, rather than re-build the function image every time the code changes if False (usually in production)\n",
    "\n",
    "workdir: the relative workdir path (under the context dir), for example: ./mlrun/docs/project/git-mlrun/\n",
    "```"
   ]
  },
  {
   "cell_type": "markdown",
   "id": "24e92976",
   "metadata": {},
   "source": [
    "By default project.push pushes the project.yaml, so there is no need to include it in files_to_add, but you need to include all the other files:"
   ]
  },
  {
   "cell_type": "code",
   "execution_count": 31,
   "id": "673c46d2",
   "metadata": {},
   "outputs": [],
   "source": [
    "files_to_add = ['git-mlrun.ipynb','serving.yaml','src/trainer.py','src/workflow.py']"
   ]
  },
  {
   "cell_type": "markdown",
   "id": "6c005b92",
   "metadata": {},
   "source": [
    "Now you can push your project to Git. The command also saves the project state, commits and pushes the updates to the remote git repo with all the files in files_to_add."
   ]
  },
  {
   "cell_type": "code",
   "execution_count": 32,
   "id": "e4f1f519",
   "metadata": {},
   "outputs": [
    {
     "ename": "GitCommandError",
     "evalue": "Cmd('git') failed due to: exit code(1)\n  cmdline: git push origin main\n  stderr: 'error: src refspec main does not match any\nerror: failed to push some refs to 'https://github.com/yevgenykhazan/mlrun-git.git''",
     "output_type": "error",
     "traceback": [
      "\u001b[0;31m---------------------------------------------------------------------------\u001b[0m",
      "\u001b[0;31mGitCommandError\u001b[0m                           Traceback (most recent call last)",
      "Cell \u001b[0;32mIn [32], line 1\u001b[0m\n\u001b[0;32m----> 1\u001b[0m \u001b[43mproject\u001b[49m\u001b[38;5;241;43m.\u001b[39;49m\u001b[43mpush\u001b[49m\u001b[43m(\u001b[49m\u001b[43mbranch\u001b[49m\u001b[38;5;241;43m=\u001b[39;49m\u001b[38;5;124;43m'\u001b[39;49m\u001b[38;5;124;43mmain\u001b[39;49m\u001b[38;5;124;43m'\u001b[39;49m\u001b[43m,\u001b[49m\u001b[43mmessage\u001b[49m\u001b[38;5;241;43m=\u001b[39;49m\u001b[38;5;124;43m'\u001b[39;49m\u001b[38;5;124;43mproject with a workflow\u001b[39;49m\u001b[38;5;124;43m'\u001b[39;49m\u001b[43m,\u001b[49m\u001b[43madd\u001b[49m\u001b[38;5;241;43m=\u001b[39;49m\u001b[43mfiles_to_add\u001b[49m\u001b[43m)\u001b[49m\n",
      "File \u001b[0;32m/opt/conda/lib/python3.9/site-packages/mlrun/projects/project.py:1704\u001b[0m, in \u001b[0;36mMlrunProject.push\u001b[0;34m(self, branch, message, update, remote, add)\u001b[0m\n\u001b[1;32m   1702\u001b[0m \u001b[38;5;28;01mif\u001b[39;00m \u001b[38;5;129;01mnot\u001b[39;00m branch:\n\u001b[1;32m   1703\u001b[0m     \u001b[38;5;28;01mraise\u001b[39;00m \u001b[38;5;167;01mValueError\u001b[39;00m(\u001b[38;5;124m\"\u001b[39m\u001b[38;5;124mplease specify the remote branch\u001b[39m\u001b[38;5;124m\"\u001b[39m)\n\u001b[0;32m-> 1704\u001b[0m \u001b[43mrepo\u001b[49m\u001b[38;5;241;43m.\u001b[39;49m\u001b[43mgit\u001b[49m\u001b[38;5;241;43m.\u001b[39;49m\u001b[43mpush\u001b[49m\u001b[43m(\u001b[49m\u001b[43mremote\u001b[49m\u001b[43m \u001b[49m\u001b[38;5;129;43;01mor\u001b[39;49;00m\u001b[43m \u001b[49m\u001b[38;5;124;43m\"\u001b[39;49m\u001b[38;5;124;43morigin\u001b[39;49m\u001b[38;5;124;43m\"\u001b[39;49m\u001b[43m,\u001b[49m\u001b[43m \u001b[49m\u001b[43mbranch\u001b[49m\u001b[43m)\u001b[49m\n",
      "File \u001b[0;32m/opt/conda/lib/python3.9/site-packages/git/cmd.py:741\u001b[0m, in \u001b[0;36mGit.__getattr__.<locals>.<lambda>\u001b[0;34m(*args, **kwargs)\u001b[0m\n\u001b[1;32m    739\u001b[0m \u001b[38;5;28;01mif\u001b[39;00m name[\u001b[38;5;241m0\u001b[39m] \u001b[38;5;241m==\u001b[39m \u001b[38;5;124m\"\u001b[39m\u001b[38;5;124m_\u001b[39m\u001b[38;5;124m\"\u001b[39m:\n\u001b[1;32m    740\u001b[0m     \u001b[38;5;28;01mreturn\u001b[39;00m LazyMixin\u001b[38;5;241m.\u001b[39m\u001b[38;5;21m__getattr__\u001b[39m(\u001b[38;5;28mself\u001b[39m, name)\n\u001b[0;32m--> 741\u001b[0m \u001b[38;5;28;01mreturn\u001b[39;00m \u001b[38;5;28;01mlambda\u001b[39;00m \u001b[38;5;241m*\u001b[39margs, \u001b[38;5;241m*\u001b[39m\u001b[38;5;241m*\u001b[39mkwargs: \u001b[38;5;28;43mself\u001b[39;49m\u001b[38;5;241;43m.\u001b[39;49m\u001b[43m_call_process\u001b[49m\u001b[43m(\u001b[49m\u001b[43mname\u001b[49m\u001b[43m,\u001b[49m\u001b[43m \u001b[49m\u001b[38;5;241;43m*\u001b[39;49m\u001b[43margs\u001b[49m\u001b[43m,\u001b[49m\u001b[43m \u001b[49m\u001b[38;5;241;43m*\u001b[39;49m\u001b[38;5;241;43m*\u001b[39;49m\u001b[43mkwargs\u001b[49m\u001b[43m)\u001b[49m\n",
      "File \u001b[0;32m/opt/conda/lib/python3.9/site-packages/git/cmd.py:1315\u001b[0m, in \u001b[0;36mGit._call_process\u001b[0;34m(self, method, *args, **kwargs)\u001b[0m\n\u001b[1;32m   1312\u001b[0m call\u001b[38;5;241m.\u001b[39mappend(dashify(method))\n\u001b[1;32m   1313\u001b[0m call\u001b[38;5;241m.\u001b[39mextend(args_list)\n\u001b[0;32m-> 1315\u001b[0m \u001b[38;5;28;01mreturn\u001b[39;00m \u001b[38;5;28;43mself\u001b[39;49m\u001b[38;5;241;43m.\u001b[39;49m\u001b[43mexecute\u001b[49m\u001b[43m(\u001b[49m\u001b[43mcall\u001b[49m\u001b[43m,\u001b[49m\u001b[43m \u001b[49m\u001b[38;5;241;43m*\u001b[39;49m\u001b[38;5;241;43m*\u001b[39;49m\u001b[43mexec_kwargs\u001b[49m\u001b[43m)\u001b[49m\n",
      "File \u001b[0;32m/opt/conda/lib/python3.9/site-packages/git/cmd.py:1109\u001b[0m, in \u001b[0;36mGit.execute\u001b[0;34m(self, command, istream, with_extended_output, with_exceptions, as_process, output_stream, stdout_as_string, kill_after_timeout, with_stdout, universal_newlines, shell, env, max_chunk_size, strip_newline_in_stdout, **subprocess_kwargs)\u001b[0m\n\u001b[1;32m   1106\u001b[0m \u001b[38;5;66;03m# END handle debug printing\u001b[39;00m\n\u001b[1;32m   1108\u001b[0m \u001b[38;5;28;01mif\u001b[39;00m with_exceptions \u001b[38;5;129;01mand\u001b[39;00m status \u001b[38;5;241m!=\u001b[39m \u001b[38;5;241m0\u001b[39m:\n\u001b[0;32m-> 1109\u001b[0m     \u001b[38;5;28;01mraise\u001b[39;00m GitCommandError(redacted_command, status, stderr_value, stdout_value)\n\u001b[1;32m   1111\u001b[0m \u001b[38;5;28;01mif\u001b[39;00m \u001b[38;5;28misinstance\u001b[39m(stdout_value, \u001b[38;5;28mbytes\u001b[39m) \u001b[38;5;129;01mand\u001b[39;00m stdout_as_string:  \u001b[38;5;66;03m# could also be output_stream\u001b[39;00m\n\u001b[1;32m   1112\u001b[0m     stdout_value \u001b[38;5;241m=\u001b[39m safe_decode(stdout_value)\n",
      "\u001b[0;31mGitCommandError\u001b[0m: Cmd('git') failed due to: exit code(1)\n  cmdline: git push origin main\n  stderr: 'error: src refspec main does not match any\nerror: failed to push some refs to 'https://github.com/yevgenykhazan/mlrun-git.git''"
     ]
    }
   ],
   "source": [
    "project.push(branch='main',message='project with a workflow',add=files_to_add)"
   ]
  },
  {
   "cell_type": "markdown",
   "id": "842b7007",
   "metadata": {},
   "source": [
    "<a id=\"pull\"></a>\n",
    "## Pulling from Git to the project context"
   ]
  },
  {
   "cell_type": "markdown",
   "id": "ad31a8fc",
   "metadata": {},
   "source": [
    "If your remote has changed (e.g a team is working on the same branch), you need to first pull the latest code from git:"
   ]
  },
  {
   "cell_type": "markdown",
   "id": "59813522",
   "metadata": {},
   "source": [
    "Congratulations! You've successfully pushed and pulled your poject from git"
   ]
  },
  {
   "cell_type": "code",
   "execution_count": null,
   "id": "44bfddab",
   "metadata": {},
   "outputs": [],
   "source": [
    "# project.pull(\"git-mlrun\") "
   ]
  }
 ],
 "metadata": {
  "kernelspec": {
   "display_name": "Python 3 (ipykernel)",
   "language": "python",
   "name": "python3"
  },
  "language_info": {
   "codemirror_mode": {
    "name": "ipython",
    "version": 3
   },
   "file_extension": ".py",
   "mimetype": "text/x-python",
   "name": "python",
   "nbconvert_exporter": "python",
   "pygments_lexer": "ipython3",
   "version": "3.9.13"
  }
 },
 "nbformat": 4,
 "nbformat_minor": 5
}
