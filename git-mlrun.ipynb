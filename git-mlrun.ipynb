{
 "cells": [
  {
   "cell_type": "markdown",
   "id": "6f20bd3b",
   "metadata": {},
   "source": [
    "# Working with Git - best practices and example"
   ]
  },
  {
   "cell_type": "markdown",
   "id": "afdb39d2",
   "metadata": {},
   "source": [
    "This notebook provides an overview of developing and deploying ML applications using MLRun and Git. \n",
    "\n",
    "Tutorial steps:\n",
    "\n",
    "1) [Importing MLRun package and creating a new project.](#importing-mlrun)\n",
    "2) [Configuring Git (user name, user email and create git remote)](#configuring-git)\n",
    "3) [Developing, logging and registering ML functions and artifacts](#developing) -\n",
    "    1. [Register a dataset artifact in the project](#register-dataset)\n",
    "    2. [Train Model func - register this function object into the project, run function](#train-model)\n",
    "    3. [Register a model artifact into the project](#register-model)\n",
    "    4. [Serving func - create, add model and register the model serving function](#serving-function)\n",
    "    5. [Workflow - build, run and register a workflow (workflow includes training the model and deploying)](#workflow)\n",
    "4) [Pushing project context to Git (end of the day)](#push)\n",
    "5) [Pulling from Git to the project context (start of the day) and repeat from step 3 (if needed)](#pull)\n",
    "**Note:** any of the sub-steps in step 3 are optional. Working with Git can also apply on just one of these sub-steps. Also step 2 can come after step 3.\n",
    "\n",
    "**General:**\n",
    "Project code, metadata, and configuration are stored and versioned in source control systems like Git or archives (zip, tar) and can be loaded into your work environment or CI system with a single SDK or CLI command.\n",
    "<br> Before working with Git you need to create a repo and branch (if not master) in Git to be able to push the files to this repo. \n",
    "You can work with Git and MLRun with one of the following use-cases:\n",
    "1. If you have a git repo with files that you want to use and it\n",
    "    1. Includes the [project.yaml](#project-yaml) - use [project.load](#https://docs.mlrun.org/en/stable/projects/load-project.html) method to load the project from git (it will add the files to the project context)\n",
    "    2. Doesn't include the [project.yaml](#project-yaml) file you can clone your git repo using the CLI\n",
    "2. If you have an empty git repo, you can connect your project to git repo using ```git remote add <remote-name> <remote-url>``` in the terminal or ```project.create_remote()``` in MLRun SDK, as shown in this tutorial (step 2)"
   ]
  },
  {
   "cell_type": "markdown",
   "id": "0c093b18",
   "metadata": {},
   "source": [
    "<a id=\"importing-mlrun\"></a>\n",
    "## Importing MLRun package and creating a new project."
   ]
  },
  {
   "cell_type": "markdown",
   "id": "cd62be4d",
   "metadata": {},
   "source": [
    "First thing import the MLRun package"
   ]
  },
  {
   "cell_type": "code",
   "execution_count": 75,
   "id": "e9604758",
   "metadata": {},
   "outputs": [],
   "source": [
    "import mlrun"
   ]
  },
  {
   "cell_type": "markdown",
   "id": "be5a8f9d",
   "metadata": {},
   "source": [
    "Now create a new project or load it from git remote. The init_git flag is used to initialize git in the context dir."
   ]
  },
  {
   "cell_type": "code",
   "execution_count": 76,
   "id": "58371552",
   "metadata": {},
   "outputs": [
    {
     "name": "stdout",
     "output_type": "stream",
     "text": [
      "> 2023-03-20 12:08:58,734 [info] Deleting project new-git-project from MLRun DB due to overwrite\n",
      "> 2023-03-20 12:09:00,185 [info] Created and saved project new-git-project: {'from_template': None, 'overwrite': True, 'context': './', 'save': True}\n"
     ]
    }
   ],
   "source": [
    "project = mlrun.new_project(name='new-git-project',init_git=True, overwrite=True)"
   ]
  },
  {
   "cell_type": "markdown",
   "id": "a6e499b0",
   "metadata": {},
   "source": [
    "<a id=\"project-yaml\"></a>\n",
    "When you create/save the project it stores the project definitions in the project.yaml. This allows reconstructing the project in a remote cluster or a CI/CD system. A light project YAML looks like (use ```print(project.to_yaml())``` to print) :\n",
    "```\n",
    "kind: project\n",
    "metadata:\n",
    "  name: new-git-project\n",
    "spec:\n",
    "  functions: []\n",
    "  workflows: []\n",
    "  artifacts: []\n",
    "  source: ''\n",
    "  desired_state: online\n",
    "```"
   ]
  },
  {
   "cell_type": "markdown",
   "id": "5e6407bf",
   "metadata": {},
   "source": [
    "<a id=\"configuring-git\"></a>\n",
    "## Configuring Git"
   ]
  },
  {
   "cell_type": "markdown",
   "id": "146c10ca",
   "metadata": {},
   "source": [
    "1. To add a new remote, use the git remote add command on the terminal, in the directory your repository is stored at:\n",
    "```\n",
    "git remote add <remote-name> <remote-url>\n",
    "```    \n",
    "The git remote add command takes two arguments:\n",
    "\n",
    "    1. A unique remote name, for example, “my_awesome_new_remote_repo”\n",
    "    2. A remote URL, which you can find on the Source sub-tab of your Git repo\n",
    "\n",
    "Alternatively you can use MLRun SDK command:\n",
    "````create_remote(url, name='origin', branch=None)```   \n",
    "\n",
    "Where:\n",
    "```\n",
    "    param url:    remote git url\n",
    "    param name:   name for the remote (default is 'origin')\n",
    "    param branch: Git branch to use as source (optional)\n",
    "```\n",
    "Note that you cannot run this command if there is an existing remote with the same name (run this command only once!)"
   ]
  },
  {
   "cell_type": "markdown",
   "id": "2b86f76b",
   "metadata": {},
   "source": [
    "2. If you are using containerized Jupyter you also need to set your Git parameters, using the following commands in the CLI\n",
    "```\n",
    "git config --global user.email \"<my@email.com>\"\n",
    "git config --global user.name \"<name>\"\n",
    "git config --global credential.helper store\n",
    "```"
   ]
  },
  {
   "cell_type": "markdown",
   "id": "566337ff",
   "metadata": {},
   "source": [
    "<a id=\"developing\"></a>\n",
    "## Developing and logging ML functions and artifacts"
   ]
  },
  {
   "cell_type": "markdown",
   "id": "f91030ed",
   "metadata": {},
   "source": [
    "In this section you are going to add functions, workflows and artifacts to [project.yaml](#project-yaml) so that it will contain all project metadata and links to:\n",
    "\n",
    "1. **artifacts** (artifacts, datasets, models) - set artifact allows the user to load the project with the artifact metadata (it points to the artifact file in a remote storage e.g S3)\n",
    "2. **functions** - set function to a project allows the user to run the function in a remote cluster, every time the project is loaded\n",
    "3. **workflows** - set workflow to a project allows the user to run the workflow in a remote cluster, every time the project is loaded\n"
   ]
  },
  {
   "cell_type": "markdown",
   "id": "e7d2de33",
   "metadata": {},
   "source": [
    "<a id=\"register-dataset\"></a>\n",
    "### Register a dataset artifact"
   ]
  },
  {
   "cell_type": "markdown",
   "id": "214c778d",
   "metadata": {},
   "source": [
    "Register an artifact in the project.yaml, so that it can be further imported on project load"
   ]
  },
  {
   "cell_type": "code",
   "execution_count": 77,
   "id": "9a3ec169",
   "metadata": {
    "tags": []
   },
   "outputs": [],
   "source": [
    "data_url = mlrun.get_sample_path('data/iris/iris.data.raw.csv')\n",
    "project.set_artifact('data', artifact=mlrun.artifacts.DatasetArtifact(),target_path=data_url)  "
   ]
  },
  {
   "cell_type": "code",
   "execution_count": 78,
   "id": "abf6fcbb-5156-4b93-aa52-ad0f275a44bb",
   "metadata": {},
   "outputs": [
    {
     "name": "stdout",
     "output_type": "stream",
     "text": [
      "kind: project\n",
      "metadata:\n",
      "  name: new-git-project\n",
      "spec:\n",
      "  functions: []\n",
      "  workflows: []\n",
      "  artifacts:\n",
      "  - kind: dataset\n",
      "    metadata:\n",
      "      project: new-git-project\n",
      "      key: data\n",
      "    spec:\n",
      "      target_path: https://s3.wasabisys.com/iguazio/data/iris/iris.data.raw.csv\n",
      "      format: ''\n",
      "    status:\n",
      "      state: created\n",
      "  conda: ''\n",
      "  source: git://github.com/yevgenykhazan/mlrun-git.git#refs/heads/master\n",
      "  origin_url: git://github.com/yevgenykhazan/mlrun-git.git#refs/heads/master\n",
      "  desired_state: online\n",
      "\n"
     ]
    }
   ],
   "source": [
    "print(project.to_yaml())"
   ]
  },
  {
   "cell_type": "markdown",
   "id": "007430e5",
   "metadata": {},
   "source": [
    "Save the artifact in MLRun DB (sync artficats metadata from the project.yaml to MLRun db), so that it can be further used as an input for the train model function"
   ]
  },
  {
   "cell_type": "code",
   "execution_count": 79,
   "id": "ef777e2b",
   "metadata": {},
   "outputs": [],
   "source": [
    "project.register_artifacts()\n",
    "dataset_artifact = project.get_artifact('data') \n",
    "# print(dataset_artifact.to_yaml())"
   ]
  },
  {
   "cell_type": "code",
   "execution_count": 80,
   "id": "16d8641b",
   "metadata": {},
   "outputs": [
    {
     "name": "stdout",
     "output_type": "stream",
     "text": [
      "kind: project\n",
      "metadata:\n",
      "  name: new-git-project\n",
      "spec:\n",
      "  functions: []\n",
      "  workflows: []\n",
      "  artifacts:\n",
      "  - kind: dataset\n",
      "    metadata:\n",
      "      project: new-git-project\n",
      "      key: data\n",
      "    spec:\n",
      "      target_path: https://s3.wasabisys.com/iguazio/data/iris/iris.data.raw.csv\n",
      "      format: ''\n",
      "    status:\n",
      "      state: created\n",
      "  conda: ''\n",
      "  source: git://github.com/yevgenykhazan/mlrun-git.git#refs/heads/master\n",
      "  origin_url: git://github.com/yevgenykhazan/mlrun-git.git#refs/heads/master\n",
      "  desired_state: online\n",
      "\n"
     ]
    }
   ],
   "source": [
    "print(project.to_yaml())"
   ]
  },
  {
   "cell_type": "markdown",
   "id": "998794fa",
   "metadata": {},
   "source": [
    "```{admonition} Note\n",
    "In case you have a src/fetch_data.py in your context directory that prepares your data, you'll need to first create a serverless function object from src/fetch_data.py, register it in the project.yaml and run:\n",
    "\n",
    "fetch_data_fn = project.set_function(\"src/fetch_data.py\", name=\"fetch_data\", kind=\"job\", image=\"mlrun/mlrun\", handler=\"fetch_data\")\n",
    "project.save()\n",
    "fetch_data_run_remotely = project.run_function(\"fetch_data\",inputs={'dataset':project.get_artifact('data').uri})\n",
    "```"
   ]
  },
  {
   "cell_type": "markdown",
   "id": "a515fc5d",
   "metadata": {},
   "source": [
    "<a id=\"train-model\"></a>\n",
    "### Train Model function\n",
    "\n",
    "Assuming you have a src/trainer.py in your context directory\n",
    "\n",
    "The other option is to use the auto_trainer function form the hub:\n",
    "```trainer = project.set_function(func=\"hub://auto_trainer\")```\n",
    "\n",
    "Create a serverless function object from src/trainer.py, and register it in the project.yaml"
   ]
  },
  {
   "cell_type": "code",
   "execution_count": 81,
   "id": "e998752b",
   "metadata": {},
   "outputs": [],
   "source": [
    "trainer = project.set_function(func=\"src/trainer.py\", name=\"trainer\", kind=\"job\", image=\"mlrun/mlrun\", handler=\"train\")"
   ]
  },
  {
   "cell_type": "markdown",
   "id": "2874cb14",
   "metadata": {},
   "source": [
    "```{admonition} Note\n",
    "\n",
    "Users who already have their code files in Git repo and want to run the code files only from there can add \"with_repo\" flag to project.set_function (see example below). In this case, the contents of the Git repo or archive will be available in the current working directory of your MLRun function during runtime. In other words the \"with_repo\" flag automatically clones the git repo from the project source to your running container and then runs these code files within the container. \n",
    "An advantage of this approach is that it allows users to set a relative path to the handler function (e.g folder-name.file-name.function-handler) without the need to handle with file paths in the local directory. For example:\n",
    "\n",
    "project.set_function(name=\"train\", handler=\"src.trainer.train\",  image=\"mlrun/mlrun\", kind=\"job\", with_repo=True)\n",
    "\n",
    "```"
   ]
  },
  {
   "cell_type": "markdown",
   "id": "ef9b8b20",
   "metadata": {},
   "source": [
    "Run the function on the remote cluster (for running locally, add \"Local = True\" in project.run_function)"
   ]
  },
  {
   "cell_type": "code",
   "execution_count": 82,
   "id": "3d1cc884",
   "metadata": {},
   "outputs": [
    {
     "name": "stdout",
     "output_type": "stream",
     "text": [
      "> 2023-03-20 12:09:00,392 [warning] it is recommended to use k8s secret (specify secret_name), specifying the aws_access_key/aws_secret_key directly is unsafe\n",
      "> 2023-03-20 12:09:00,409 [info] Storing function: {'name': 'trainer-train', 'uid': '8078b7edffb0402fb94a19050e563124', 'db': 'http://mlrun-api:8080'}\n",
      "> 2023-03-20 12:09:00,936 [info] Job is running in the background, pod: trainer-train-x6x72\n",
      "> 2023-03-20 12:09:16,336 [info] To track results use the CLI: {'info_cmd': 'mlrun get run 8078b7edffb0402fb94a19050e563124 -p new-git-project', 'logs_cmd': 'mlrun logs 8078b7edffb0402fb94a19050e563124 -p new-git-project'}\n",
      "> 2023-03-20 12:09:16,337 [info] run executed, status=completed: {'name': 'trainer-train'}\n",
      "final state: completed\n"
     ]
    },
    {
     "data": {
      "text/html": [
       "<style>\n",
       ".dictlist {\n",
       "  background-color: #4EC64B;\n",
       "  text-align: center;\n",
       "  margin: 4px;\n",
       "  border-radius: 3px; padding: 0px 3px 1px 3px; display: inline-block;}\n",
       ".artifact {\n",
       "  cursor: pointer;\n",
       "  background-color: #4EC64B;\n",
       "  text-align: left;\n",
       "  margin: 4px; border-radius: 3px; padding: 0px 3px 1px 3px; display: inline-block;\n",
       "}\n",
       "div.block.hidden {\n",
       "  display: none;\n",
       "}\n",
       ".clickable {\n",
       "  cursor: pointer;\n",
       "}\n",
       ".ellipsis {\n",
       "  display: inline-block;\n",
       "  max-width: 60px;\n",
       "  white-space: nowrap;\n",
       "  overflow: hidden;\n",
       "  text-overflow: ellipsis;\n",
       "}\n",
       ".master-wrapper {\n",
       "  display: flex;\n",
       "  flex-flow: row nowrap;\n",
       "  justify-content: flex-start;\n",
       "  align-items: stretch;\n",
       "}\n",
       ".master-tbl {\n",
       "  flex: 3\n",
       "}\n",
       ".master-wrapper > div {\n",
       "  margin: 4px;\n",
       "  padding: 10px;\n",
       "}\n",
       "iframe.fileview {\n",
       "  border: 0 none;\n",
       "  height: 100%;\n",
       "  width: 100%;\n",
       "  white-space: pre-wrap;\n",
       "}\n",
       ".pane-header-title {\n",
       "  width: 80%;\n",
       "  font-weight: 500;\n",
       "}\n",
       ".pane-header {\n",
       "  line-height: 1;\n",
       "  background-color: #4EC64B;\n",
       "  padding: 3px;\n",
       "}\n",
       ".pane-header .close {\n",
       "  font-size: 20px;\n",
       "  font-weight: 700;\n",
       "  float: right;\n",
       "  margin-top: -5px;\n",
       "}\n",
       ".master-wrapper .right-pane {\n",
       "  border: 1px inset silver;\n",
       "  width: 40%;\n",
       "  min-height: 300px;\n",
       "  flex: 3\n",
       "  min-width: 500px;\n",
       "}\n",
       ".master-wrapper * {\n",
       "  box-sizing: border-box;\n",
       "}\n",
       "</style><script>\n",
       "function copyToClipboard(fld) {\n",
       "    if (document.queryCommandSupported && document.queryCommandSupported('copy')) {\n",
       "        var textarea = document.createElement('textarea');\n",
       "        textarea.textContent = fld.innerHTML;\n",
       "        textarea.style.position = 'fixed';\n",
       "        document.body.appendChild(textarea);\n",
       "        textarea.select();\n",
       "\n",
       "        try {\n",
       "            return document.execCommand('copy'); // Security exception may be thrown by some browsers.\n",
       "        } catch (ex) {\n",
       "\n",
       "        } finally {\n",
       "            document.body.removeChild(textarea);\n",
       "        }\n",
       "    }\n",
       "}\n",
       "function expandPanel(el) {\n",
       "  const panelName = \"#\" + el.getAttribute('paneName');\n",
       "  console.log(el.title);\n",
       "\n",
       "  document.querySelector(panelName + \"-title\").innerHTML = el.title\n",
       "  iframe = document.querySelector(panelName + \"-body\");\n",
       "\n",
       "  const tblcss = `<style> body { font-family: Arial, Helvetica, sans-serif;}\n",
       "    #csv { margin-bottom: 15px; }\n",
       "    #csv table { border-collapse: collapse;}\n",
       "    #csv table td { padding: 4px 8px; border: 1px solid silver;} </style>`;\n",
       "\n",
       "  function csvToHtmlTable(str) {\n",
       "    return '<div id=\"csv\"><table><tr><td>' +  str.replace(/[\\n\\r]+$/g, '').replace(/[\\n\\r]+/g, '</td></tr><tr><td>')\n",
       "      .replace(/,/g, '</td><td>') + '</td></tr></table></div>';\n",
       "  }\n",
       "\n",
       "  function reqListener () {\n",
       "    if (el.title.endsWith(\".csv\")) {\n",
       "      iframe.setAttribute(\"srcdoc\", tblcss + csvToHtmlTable(this.responseText));\n",
       "    } else {\n",
       "      iframe.setAttribute(\"srcdoc\", this.responseText);\n",
       "    }\n",
       "    console.log(this.responseText);\n",
       "  }\n",
       "\n",
       "  const oReq = new XMLHttpRequest();\n",
       "  oReq.addEventListener(\"load\", reqListener);\n",
       "  oReq.open(\"GET\", el.title);\n",
       "  oReq.send();\n",
       "\n",
       "\n",
       "  //iframe.src = el.title;\n",
       "  const resultPane = document.querySelector(panelName + \"-pane\");\n",
       "  if (resultPane.classList.contains(\"hidden\")) {\n",
       "    resultPane.classList.remove(\"hidden\");\n",
       "  }\n",
       "}\n",
       "function closePanel(el) {\n",
       "  const panelName = \"#\" + el.getAttribute('paneName')\n",
       "  const resultPane = document.querySelector(panelName + \"-pane\");\n",
       "  if (!resultPane.classList.contains(\"hidden\")) {\n",
       "    resultPane.classList.add(\"hidden\");\n",
       "  }\n",
       "}\n",
       "\n",
       "</script>\n",
       "<div class=\"master-wrapper\">\n",
       "  <div class=\"block master-tbl\"><div>\n",
       "<style scoped>\n",
       "    .dataframe tbody tr th:only-of-type {\n",
       "        vertical-align: middle;\n",
       "    }\n",
       "\n",
       "    .dataframe tbody tr th {\n",
       "        vertical-align: top;\n",
       "    }\n",
       "\n",
       "    .dataframe thead th {\n",
       "        text-align: right;\n",
       "    }\n",
       "</style>\n",
       "<table border=\"1\" class=\"dataframe\">\n",
       "  <thead>\n",
       "    <tr style=\"text-align: right;\">\n",
       "      <th>project</th>\n",
       "      <th>uid</th>\n",
       "      <th>iter</th>\n",
       "      <th>start</th>\n",
       "      <th>state</th>\n",
       "      <th>name</th>\n",
       "      <th>labels</th>\n",
       "      <th>inputs</th>\n",
       "      <th>parameters</th>\n",
       "      <th>results</th>\n",
       "      <th>artifacts</th>\n",
       "    </tr>\n",
       "  </thead>\n",
       "  <tbody>\n",
       "    <tr>\n",
       "      <td>new-git-project</td>\n",
       "      <td><div title=\"8078b7edffb0402fb94a19050e563124\"><a href=\"http://192.168.224.227:30060/mlrun/projects/new-git-project/jobs/monitor/8078b7edffb0402fb94a19050e563124/overview\" target=\"_blank\" >...0e563124</a></div></td>\n",
       "      <td>0</td>\n",
       "      <td>Mar 20 12:09:10</td>\n",
       "      <td>completed</td>\n",
       "      <td>trainer-train</td>\n",
       "      <td><div class=\"dictlist\">kind=job</div><div class=\"dictlist\">owner=jovyan</div><div class=\"dictlist\">mlrun/client_version=1.3.0-rc37</div><div class=\"dictlist\">mlrun/client_python_version=3.9.13</div><div class=\"dictlist\">host=trainer-train-x6x72</div></td>\n",
       "      <td><div title=\"store://artifacts/new-git-project/data#0:56b8abde12233fd76fed9ea64861006a1ba51644\">dataset</div></td>\n",
       "      <td><div class=\"dictlist\">model_class=sklearn.ensemble.RandomForestClassifier</div><div class=\"dictlist\">train_test_split_size=0.2</div><div class=\"dictlist\">label_columns=label</div><div class=\"dictlist\">model_name=model_iris</div></td>\n",
       "      <td><div class=\"dictlist\">accuracy=1.0</div><div class=\"dictlist\">f1_score=1.0</div><div class=\"dictlist\">precision_score=1.0</div><div class=\"dictlist\">recall_score=1.0</div><div class=\"dictlist\">auc-micro=1.0</div><div class=\"dictlist\">auc-macro=1.0</div><div class=\"dictlist\">auc-weighted=1.0</div></td>\n",
       "      <td><div title=\"s3://mlrun/projects/new-git-project/artifacts/trainer-train/0/feature-importance.html\">feature-importance</div><div title=\"s3://mlrun/projects/new-git-project/artifacts/trainer-train/0/test_set.parquet\">test_set</div><div title=\"s3://mlrun/projects/new-git-project/artifacts/trainer-train/0/confusion-matrix.html\">confusion-matrix</div><div title=\"s3://mlrun/projects/new-git-project/artifacts/trainer-train/0/roc-curves.html\">roc-curves</div><div title=\"s3://mlrun/projects/new-git-project/artifacts/trainer-train/0/model/\">model</div></td>\n",
       "    </tr>\n",
       "  </tbody>\n",
       "</table>\n",
       "</div></div>\n",
       "  <div id=\"resulta029a3ee-pane\" class=\"right-pane block hidden\">\n",
       "    <div class=\"pane-header\">\n",
       "      <span id=\"resulta029a3ee-title\" class=\"pane-header-title\">Title</span>\n",
       "      <span onclick=\"closePanel(this)\" paneName=\"resulta029a3ee\" class=\"close clickable\">&times;</span>\n",
       "    </div>\n",
       "    <iframe class=\"fileview\" id=\"resulta029a3ee-body\"></iframe>\n",
       "  </div>\n",
       "</div>\n"
      ],
      "text/plain": [
       "<IPython.core.display.HTML object>"
      ]
     },
     "metadata": {},
     "output_type": "display_data"
    },
    {
     "name": "stdout",
     "output_type": "stream",
     "text": [
      "\n"
     ]
    },
    {
     "data": {
      "text/html": [
       "<b> > to track results use the .show() or .logs() methods  or <a href=\"http://192.168.224.227:30060/mlrun/projects/new-git-project/jobs/monitor/8078b7edffb0402fb94a19050e563124/overview\" target=\"_blank\">click here</a> to open in UI</b>"
      ],
      "text/plain": [
       "<IPython.core.display.HTML object>"
      ]
     },
     "metadata": {},
     "output_type": "display_data"
    },
    {
     "name": "stdout",
     "output_type": "stream",
     "text": [
      "> 2023-03-20 12:09:21,138 [info] run executed, status=completed: {'name': 'trainer-train'}\n"
     ]
    }
   ],
   "source": [
    "trainer_run = project.run_function(\"trainer\",\n",
    "        inputs={\"dataset\": dataset_artifact.uri},\n",
    "        params = {\n",
    "            \"model_class\": \"sklearn.ensemble.RandomForestClassifier\",\n",
    "            \"train_test_split_size\": 0.2,\n",
    "            \"label_columns\": \"label\",\n",
    "            \"model_name\":'model_iris'}, handler='train')"
   ]
  },
  {
   "cell_type": "markdown",
   "id": "527aa3c0",
   "metadata": {},
   "source": [
    "Results (metrics) and artifacts are generated and tracked automatically by MLRun, to see them, run:\n",
    "```\n",
    "trainer_run.artifact('confusion-matrix').show()\n",
    "trainer_run.outputs\n",
    "```"
   ]
  },
  {
   "cell_type": "markdown",
   "id": "82508648",
   "metadata": {},
   "source": [
    "<a id=\"register-model\"></a>\n",
    "### Register a model artifact\n",
    "Registering a model artifact in the project.yaml allows it to be further imported on project load. You have two options of doing it:\n",
    "\n",
    "1. When you want to save only the **necessary metadata** for future use (e.g key, kind, tag,  target_path) - set artifact object. We'll use this option in the current tutorial. <br><br>\n",
    "\n",
    "2. When you want to save **all metadata** (e.g also preview, metrics etc.) of the artifact for future use - set artifact YAML. This can be done with the following commands: \n",
    "```\n",
    "model_obj = project.get_artifact('model_iris')\n",
    "model_obj.export('model_iris.yaml')\n",
    "project.set_artifact('model_iris','model_iris.yaml')\n",
    "```\n",
    "<br>"
   ]
  },
  {
   "cell_type": "code",
   "execution_count": 83,
   "id": "5a4307ee-c55a-4e05-a696-591959796e78",
   "metadata": {},
   "outputs": [],
   "source": [
    "model_obj = project.get_artifact('model_iris')\n",
    "model_obj.export('model.yaml')\n",
    "project.set_artifact('model','model.yaml')"
   ]
  },
  {
   "cell_type": "code",
   "execution_count": 84,
   "id": "ab3bfd5e",
   "metadata": {},
   "outputs": [],
   "source": [
    "# target_path = project.get_artifact('model_iris').target_path\n",
    "# project.set_artifact('model', mlrun.artifacts.ModelArtifact(model_file=\"model_iris.pkl\"), target_path=target_path)\n",
    "# project.set_artifact('model', mlrun.artifacts.ModelArtifact(), target_path=target_path)\n",
    "# project.set_artifact('model', target_path=target_path)"
   ]
  },
  {
   "cell_type": "code",
   "execution_count": 85,
   "id": "1011257c-38bb-4d6a-841e-e3b6081edb4d",
   "metadata": {},
   "outputs": [
    {
     "name": "stdout",
     "output_type": "stream",
     "text": [
      "kind: project\n",
      "metadata:\n",
      "  name: new-git-project\n",
      "spec:\n",
      "  functions:\n",
      "  - url: src/trainer.py\n",
      "    name: trainer\n",
      "    kind: job\n",
      "    image: mlrun/mlrun\n",
      "    handler: train\n",
      "  workflows: []\n",
      "  artifacts:\n",
      "  - kind: dataset\n",
      "    metadata:\n",
      "      project: new-git-project\n",
      "      key: data\n",
      "    spec:\n",
      "      target_path: https://s3.wasabisys.com/iguazio/data/iris/iris.data.raw.csv\n",
      "      format: ''\n",
      "    status:\n",
      "      state: created\n",
      "  - import_from: model.yaml\n",
      "    key: model\n",
      "  conda: ''\n",
      "  source: git://github.com/yevgenykhazan/mlrun-git.git#refs/heads/master\n",
      "  origin_url: git://github.com/yevgenykhazan/mlrun-git.git#refs/heads/master\n",
      "  desired_state: online\n",
      "\n"
     ]
    }
   ],
   "source": [
    "print(project.to_yaml())"
   ]
  },
  {
   "cell_type": "code",
   "execution_count": 86,
   "id": "12b2b176-c578-43c1-a294-0ed729ec9f46",
   "metadata": {},
   "outputs": [
    {
     "name": "stdout",
     "output_type": "stream",
     "text": [
      "kind: model\n",
      "metadata:\n",
      "  key: model\n",
      "  project: new-git-project\n",
      "  iter: 0\n",
      "  tree: 56b8abde12233fd76fed9ea64861006a1ba51644\n",
      "  hash: 41d238516ba4165a784884e149f00facd0f4c54a\n",
      "  tag: latest\n",
      "  updated: '2023-03-20T12:09:21.294756+00:00'\n",
      "  labels:\n",
      "    framework: sklearn\n",
      "spec:\n",
      "  target_path: s3://mlrun/projects/new-git-project/artifacts/trainer-train/0/model/\n",
      "  size: 308888\n",
      "  db_key: model\n",
      "  extra_data:\n",
      "    feature-importance: s3://mlrun/projects/new-git-project/artifacts/trainer-train/0/feature-importance.html\n",
      "    test_set: s3://mlrun/projects/new-git-project/artifacts/trainer-train/0/test_set.parquet\n",
      "    confusion-matrix: s3://mlrun/projects/new-git-project/artifacts/trainer-train/0/confusion-matrix.html\n",
      "    roc-curves: s3://mlrun/projects/new-git-project/artifacts/trainer-train/0/roc-curves.html\n",
      "    model_spec.yaml: s3://mlrun/projects/new-git-project/artifacts/trainer-train/0/model/model_spec.yaml\n",
      "  model_file: model_iris.pkl\n",
      "  metrics:\n",
      "    accuracy: 1.0\n",
      "    f1_score: 1.0\n",
      "    precision_score: 1.0\n",
      "    recall_score: 1.0\n",
      "    auc-micro: 1.0\n",
      "    auc-macro: 1.0\n",
      "    auc-weighted: 1.0\n",
      "  inputs:\n",
      "  - name: sepal length (cm)\n",
      "    value_type: float\n",
      "  - name: sepal width (cm)\n",
      "    value_type: float\n",
      "  - name: petal length (cm)\n",
      "    value_type: float\n",
      "  - name: petal width (cm)\n",
      "    value_type: float\n",
      "  outputs:\n",
      "  - name: label\n",
      "    value_type: str\n",
      "  framework: sklearn\n",
      "  algorithm: GradientBoostingClassifier\n",
      "  feature_stats:\n",
      "    sepal length (cm):\n",
      "      count: 120.0\n",
      "      mean: 5.809166666666666\n",
      "      std: 0.82380505090996\n",
      "      min: 4.3\n",
      "      25%: 5.1\n",
      "      50%: 5.75\n",
      "      75%: 6.4\n",
      "      max: 7.7\n",
      "      hist:\n",
      "      - - 4\n",
      "        - 5\n",
      "        - 3\n",
      "        - 5\n",
      "        - 17\n",
      "        - 5\n",
      "        - 5\n",
      "        - 10\n",
      "        - 12\n",
      "        - 3\n",
      "        - 9\n",
      "        - 11\n",
      "        - 8\n",
      "        - 2\n",
      "        - 7\n",
      "        - 4\n",
      "        - 1\n",
      "        - 4\n",
      "        - 1\n",
      "        - 4\n",
      "      - - 4.3\n",
      "        - 4.47\n",
      "        - 4.64\n",
      "        - 4.81\n",
      "        - 4.9799999999999995\n",
      "        - 5.15\n",
      "        - 5.32\n",
      "        - 5.49\n",
      "        - 5.66\n",
      "        - 5.83\n",
      "        - 6.0\n",
      "        - 6.17\n",
      "        - 6.34\n",
      "        - 6.51\n",
      "        - 6.68\n",
      "        - 6.85\n",
      "        - 7.02\n",
      "        - 7.1899999999999995\n",
      "        - 7.359999999999999\n",
      "        - 7.53\n",
      "        - 7.7\n",
      "    sepal width (cm):\n",
      "      count: 120.0\n",
      "      mean: 3.0574999999999997\n",
      "      std: 0.4463978140665133\n",
      "      min: 2.0\n",
      "      25%: 2.8\n",
      "      50%: 3.0\n",
      "      75%: 3.3249999999999997\n",
      "      max: 4.4\n",
      "      hist:\n",
      "      - - 1\n",
      "        - 2\n",
      "        - 4\n",
      "        - 3\n",
      "        - 6\n",
      "        - 12\n",
      "        - 9\n",
      "        - 8\n",
      "        - 21\n",
      "        - 9\n",
      "        - 15\n",
      "        - 10\n",
      "        - 5\n",
      "        - 3\n",
      "        - 6\n",
      "        - 2\n",
      "        - 1\n",
      "        - 1\n",
      "        - 1\n",
      "        - 1\n",
      "      - - 2.0\n",
      "        - 2.12\n",
      "        - 2.24\n",
      "        - 2.3600000000000003\n",
      "        - 2.48\n",
      "        - 2.6\n",
      "        - 2.72\n",
      "        - 2.8400000000000003\n",
      "        - 2.96\n",
      "        - 3.08\n",
      "        - 3.2\n",
      "        - 3.3200000000000003\n",
      "        - 3.4400000000000004\n",
      "        - 3.5600000000000005\n",
      "        - 3.6800000000000006\n",
      "        - 3.8000000000000003\n",
      "        - 3.9200000000000004\n",
      "        - 4.040000000000001\n",
      "        - 4.16\n",
      "        - 4.28\n",
      "        - 4.4\n",
      "    petal length (cm):\n",
      "      count: 120.0\n",
      "      mean: 3.7274999999999996\n",
      "      std: 1.7512522530410954\n",
      "      min: 1.0\n",
      "      25%: 1.5\n",
      "      50%: 4.25\n",
      "      75%: 5.1\n",
      "      max: 6.7\n",
      "      hist:\n",
      "      - - 4\n",
      "        - 27\n",
      "        - 7\n",
      "        - 2\n",
      "        - 0\n",
      "        - 0\n",
      "        - 0\n",
      "        - 1\n",
      "        - 4\n",
      "        - 2\n",
      "        - 9\n",
      "        - 10\n",
      "        - 11\n",
      "        - 7\n",
      "        - 11\n",
      "        - 7\n",
      "        - 8\n",
      "        - 6\n",
      "        - 1\n",
      "        - 3\n",
      "      - - 1.0\n",
      "        - 1.2850000000000001\n",
      "        - 1.57\n",
      "        - 1.855\n",
      "        - 2.14\n",
      "        - 2.4250000000000003\n",
      "        - 2.71\n",
      "        - 2.995\n",
      "        - 3.2800000000000002\n",
      "        - 3.5650000000000004\n",
      "        - 3.8500000000000005\n",
      "        - 4.135\n",
      "        - 4.42\n",
      "        - 4.705\n",
      "        - 4.99\n",
      "        - 5.275\n",
      "        - 5.5600000000000005\n",
      "        - 5.845000000000001\n",
      "        - 6.130000000000001\n",
      "        - 6.415000000000001\n",
      "        - 6.7\n",
      "    petal width (cm):\n",
      "      count: 120.0\n",
      "      mean: 1.1824999999999999\n",
      "      std: 0.7534416830438166\n",
      "      min: 0.1\n",
      "      25%: 0.3\n",
      "      50%: 1.3\n",
      "      75%: 1.8\n",
      "      max: 2.5\n",
      "      hist:\n",
      "      - - 29\n",
      "        - 4\n",
      "        - 5\n",
      "        - 1\n",
      "        - 1\n",
      "        - 0\n",
      "        - 0\n",
      "        - 7\n",
      "        - 2\n",
      "        - 3\n",
      "        - 18\n",
      "        - 10\n",
      "        - 3\n",
      "        - 2\n",
      "        - 10\n",
      "        - 9\n",
      "        - 5\n",
      "        - 1\n",
      "        - 4\n",
      "        - 6\n",
      "      - - 0.1\n",
      "        - 0.22\n",
      "        - 0.33999999999999997\n",
      "        - 0.45999999999999996\n",
      "        - 0.58\n",
      "        - 0.7\n",
      "        - 0.82\n",
      "        - 0.94\n",
      "        - 1.06\n",
      "        - 1.1800000000000002\n",
      "        - 1.3\n",
      "        - 1.42\n",
      "        - 1.54\n",
      "        - 1.6600000000000001\n",
      "        - 1.78\n",
      "        - 1.9\n",
      "        - 2.02\n",
      "        - 2.14\n",
      "        - 2.2600000000000002\n",
      "        - 2.38\n",
      "        - 2.5\n",
      "    label:\n",
      "      count: 120\n",
      "      unique: 3\n",
      "      top: Iris-versicolor\n",
      "      freq: 41\n",
      "  producer:\n",
      "    kind: project\n",
      "    name: new-git-project\n",
      "    tag: 56b8abde12233fd76fed9ea64861006a1ba51644\n",
      "  sources:\n",
      "  - name: dataset\n",
      "    path: https://s3.wasabisys.com/iguazio/data/iris/iris.data.raw.csv\n",
      "  license: ''\n",
      "status:\n",
      "  state: created\n",
      "\n"
     ]
    }
   ],
   "source": [
    "project.register_artifacts()\n",
    "model_artifact = project.get_artifact('model') \n",
    "print(model_artifact.to_yaml())"
   ]
  },
  {
   "cell_type": "markdown",
   "id": "e674a870",
   "metadata": {},
   "source": [
    "<a id=\"serving-function\"></a>\n",
    "### Real-time serving function (over K8S or Docker). \n",
    "\n",
    "Create a model serving function"
   ]
  },
  {
   "cell_type": "code",
   "execution_count": 87,
   "id": "91420346",
   "metadata": {},
   "outputs": [],
   "source": [
    "serving_fn = mlrun.new_function(\"serving\", image=\"mlrun/mlrun\", kind=\"serving\", requirements={})"
   ]
  },
  {
   "cell_type": "markdown",
   "id": "44781214",
   "metadata": {},
   "source": [
    "And add a model to the serving function"
   ]
  },
  {
   "cell_type": "code",
   "execution_count": 88,
   "id": "8804ce9e",
   "metadata": {},
   "outputs": [
    {
     "data": {
      "text/plain": [
       "<mlrun.serving.states.TaskStep at 0x7ff29b21ee80>"
      ]
     },
     "execution_count": 88,
     "metadata": {},
     "output_type": "execute_result"
    }
   ],
   "source": [
    "serving_fn.add_model('iris_model',model_path=trainer_run.outputs[\"model\"], class_name='mlrun.frameworks.sklearn.SklearnModelServer')"
   ]
  },
  {
   "cell_type": "markdown",
   "id": "de62d597",
   "metadata": {},
   "source": [
    "Before registering the serving function in the project (so that it can be further loaded from git) you need to first export\n",
    "its YAML, so that project YAML will look more compact (otherwise it will include the whole YAML of the serving function)"
   ]
  },
  {
   "cell_type": "code",
   "execution_count": 89,
   "id": "61e5a4d3",
   "metadata": {},
   "outputs": [
    {
     "name": "stdout",
     "output_type": "stream",
     "text": [
      "> 2023-03-20 12:09:21,416 [info] function spec saved to path: serving.yaml\n"
     ]
    },
    {
     "data": {
      "text/plain": [
       "<mlrun.runtimes.serving.ServingRuntime at 0x7ff29aacb370>"
      ]
     },
     "execution_count": 89,
     "metadata": {},
     "output_type": "execute_result"
    }
   ],
   "source": [
    "serving_fn.export('serving.yaml')\n",
    "project.set_function(func='serving.yaml',name='serving',kind='serving')"
   ]
  },
  {
   "cell_type": "code",
   "execution_count": 90,
   "id": "3d36cb9c-c3df-4ddd-88a7-bf32f01a9504",
   "metadata": {},
   "outputs": [
    {
     "name": "stdout",
     "output_type": "stream",
     "text": [
      "kind: project\n",
      "metadata:\n",
      "  name: new-git-project\n",
      "spec:\n",
      "  functions:\n",
      "  - url: src/trainer.py\n",
      "    name: trainer\n",
      "    kind: job\n",
      "    image: mlrun/mlrun\n",
      "    handler: train\n",
      "  - url: serving.yaml\n",
      "    name: serving\n",
      "    kind: serving\n",
      "  workflows: []\n",
      "  artifacts:\n",
      "  - kind: dataset\n",
      "    metadata:\n",
      "      project: new-git-project\n",
      "      key: data\n",
      "    spec:\n",
      "      target_path: https://s3.wasabisys.com/iguazio/data/iris/iris.data.raw.csv\n",
      "      format: ''\n",
      "    status:\n",
      "      state: created\n",
      "  - import_from: model.yaml\n",
      "    key: model\n",
      "  conda: ''\n",
      "  source: git://github.com/yevgenykhazan/mlrun-git.git#refs/heads/master\n",
      "  origin_url: git://github.com/yevgenykhazan/mlrun-git.git#refs/heads/master\n",
      "  desired_state: online\n",
      "\n"
     ]
    }
   ],
   "source": [
    "print(project.to_yaml())"
   ]
  },
  {
   "cell_type": "code",
   "execution_count": 91,
   "id": "28f4050b-f94a-4744-a67e-a40ba4c248c9",
   "metadata": {},
   "outputs": [
    {
     "name": "stdout",
     "output_type": "stream",
     "text": [
      "kind: serving\n",
      "metadata:\n",
      "  name: serving\n",
      "  hash: f5f3632c950d295210fae5dcf8a3f650db38ee91\n",
      "  project: new-git-project\n",
      "  categories: []\n",
      "spec:\n",
      "  command: ''\n",
      "  args: []\n",
      "  image: mlrun/mlrun\n",
      "  build:\n",
      "    commands: []\n",
      "  description: ''\n",
      "  disable_auto_mount: false\n",
      "  volumes: []\n",
      "  volume_mounts: []\n",
      "  env: []\n",
      "  preemption_mode: prevent\n",
      "  min_replicas: 1\n",
      "  max_replicas: 4\n",
      "  source: ''\n",
      "  function_kind: serving_v2\n",
      "  base_image_pull: false\n",
      "  graph:\n",
      "    kind: router\n",
      "    after: []\n",
      "    routes:\n",
      "      iris_model:\n",
      "        kind: task\n",
      "        class_name: mlrun.frameworks.sklearn.SklearnModelServer\n",
      "        class_args:\n",
      "          model_path: store://artifacts/new-git-project/model_iris:8078b7edffb0402fb94a19050e563124\n",
      "        after: []\n",
      "  secret_sources: []\n",
      "  affinity: null\n",
      "  tolerations: null\n",
      "  security_context: {}\n",
      "status:\n",
      "  internal_invocation_urls: []\n",
      "  external_invocation_urls: []\n",
      "verbose: false\n",
      "\n"
     ]
    }
   ],
   "source": [
    "print(serving_fn.to_yaml())"
   ]
  },
  {
   "cell_type": "markdown",
   "id": "9b6e631b",
   "metadata": {},
   "source": [
    "<a id=\"workflow\"></a>\n",
    "### Build and run automated ML pipelines and CI/CD\n",
    "\n",
    "A workflow is created by running an MLRun “workflow”. The workflow describes\n",
    "a directed acyclic graph (DAG) which is executed using the local, remote, or kubeflow engines. For more details see [running a multi-stage workflow](#https://docs.mlrun.org/en/latest/concepts/workflow-overview.html).\n",
    "\n",
    "Our workflow (assuming you have a src/workflow.py in your context directory) includes the following steps:\n",
    "1. Generate/prepare the data (fetch).\n",
    "2. Train and the model (train).\n",
    "3. Deploy the model as a real-time serverless function (serving).\n",
    "\n",
    "The deployment step requires Nuclio to be installed (over K8S or Docker). Use the mlrun deploy_function() method to build and deploy a Nuclio serving function from your serving-function code."
   ]
  },
  {
   "cell_type": "markdown",
   "id": "01203760",
   "metadata": {},
   "source": [
    "First thing add a multi-stage workflow (./src/workflow.py) to the project with the name 'main' and save the project:"
   ]
  },
  {
   "cell_type": "code",
   "execution_count": 92,
   "id": "20d5c18d",
   "metadata": {},
   "outputs": [],
   "source": [
    "my_workflow = project.set_workflow('main', \"./src/workflow.py\")"
   ]
  },
  {
   "cell_type": "markdown",
   "id": "a83c37bd",
   "metadata": {},
   "source": [
    "Now run the workflow:"
   ]
  },
  {
   "cell_type": "code",
   "execution_count": null,
   "id": "fede67e1",
   "metadata": {},
   "outputs": [
    {
     "data": {
      "text/html": [
       "<div>Pipeline running (id=fa72e9ba-5789-4ab2-9997-1756f07cfcd7), <a href=\"http://192.168.224.227:30060/mlrun/projects/new-git-project/jobs/monitor-workflows/workflow/fa72e9ba-5789-4ab2-9997-1756f07cfcd7\" target=\"_blank\"><b>click here</b></a> to view the details in MLRun UI</div>"
      ],
      "text/plain": [
       "<IPython.core.display.HTML object>"
      ]
     },
     "metadata": {},
     "output_type": "display_data"
    },
    {
     "data": {
      "image/svg+xml": [
       "<?xml version=\"1.0\" encoding=\"UTF-8\" standalone=\"no\"?>\n",
       "<!DOCTYPE svg PUBLIC \"-//W3C//DTD SVG 1.1//EN\"\n",
       " \"http://www.w3.org/Graphics/SVG/1.1/DTD/svg11.dtd\">\n",
       "<!-- Generated by graphviz version 2.43.0 (0)\n",
       " -->\n",
       "<!-- Title: kfp Pages: 1 -->\n",
       "<svg width=\"113pt\" height=\"116pt\"\n",
       " viewBox=\"0.00 0.00 113.29 116.00\" xmlns=\"http://www.w3.org/2000/svg\" xmlns:xlink=\"http://www.w3.org/1999/xlink\">\n",
       "<g id=\"graph0\" class=\"graph\" transform=\"scale(1 1) rotate(0) translate(4 112)\">\n",
       "<title>kfp</title>\n",
       "<polygon fill=\"white\" stroke=\"transparent\" points=\"-4,4 -4,-112 109.29,-112 109.29,4 -4,4\"/>\n",
       "<!-- iris&#45;git&#45;demo&#45;fffhp&#45;2733577318 -->\n",
       "<g id=\"node1\" class=\"node\">\n",
       "<title>iris&#45;git&#45;demo&#45;fffhp&#45;2733577318</title>\n",
       "<ellipse fill=\"green\" stroke=\"black\" cx=\"52.65\" cy=\"-90\" rx=\"52.79\" ry=\"18\"/>\n",
       "<text text-anchor=\"middle\" x=\"52.65\" y=\"-86.3\" font-family=\"Times,serif\" font-size=\"14.00\">trainer&#45;train</text>\n",
       "</g>\n",
       "<!-- iris&#45;git&#45;demo&#45;fffhp&#45;87910578 -->\n",
       "<g id=\"node2\" class=\"node\">\n",
       "<title>iris&#45;git&#45;demo&#45;fffhp&#45;87910578</title>\n",
       "<polygon fill=\"lightgrey\" stroke=\"black\" points=\"101.65,-36 7.65,-36 3.65,-32 3.65,0 97.65,0 101.65,-4 101.65,-36\"/>\n",
       "<polyline fill=\"none\" stroke=\"black\" points=\"97.65,-32 3.65,-32 \"/>\n",
       "<polyline fill=\"none\" stroke=\"black\" points=\"97.65,-32 97.65,0 \"/>\n",
       "<polyline fill=\"none\" stroke=\"black\" points=\"97.65,-32 101.65,-36 \"/>\n",
       "<text text-anchor=\"middle\" x=\"52.65\" y=\"-14.3\" font-family=\"Times,serif\" font-size=\"14.00\">deploy&#45;serving</text>\n",
       "</g>\n",
       "<!-- iris&#45;git&#45;demo&#45;fffhp&#45;2733577318&#45;&gt;iris&#45;git&#45;demo&#45;fffhp&#45;87910578 -->\n",
       "<g id=\"edge1\" class=\"edge\">\n",
       "<title>iris&#45;git&#45;demo&#45;fffhp&#45;2733577318&#45;&gt;iris&#45;git&#45;demo&#45;fffhp&#45;87910578</title>\n",
       "<path fill=\"none\" stroke=\"black\" d=\"M52.65,-71.7C52.65,-63.98 52.65,-54.71 52.65,-46.11\"/>\n",
       "<polygon fill=\"black\" stroke=\"black\" points=\"56.15,-46.1 52.65,-36.1 49.15,-46.1 56.15,-46.1\"/>\n",
       "</g>\n",
       "</g>\n",
       "</svg>\n"
      ],
      "text/plain": [
       "<graphviz.graphs.Digraph at 0x7ff29acca7c0>"
      ]
     },
     "metadata": {},
     "output_type": "display_data"
    }
   ],
   "source": [
    "run_id = project.run(\n",
    "    workflow_path=\"./src/workflow.py\",\n",
    "    name = 'main',\n",
    "    arguments={'dataset_uri':project.get_artifact('data').uri}, \n",
    "    watch=True)"
   ]
  },
  {
   "cell_type": "markdown",
   "id": "0fea4b78",
   "metadata": {},
   "source": [
    "Here is how a full project YAML looks now (use ```print(project.to_yaml())``` to print):\n",
    "```\n",
    "kind: project\n",
    "metadata:\n",
    "  name: new-git-project\n",
    "spec:\n",
    "  functions:\n",
    "  - url: src/trainer.py\n",
    "    name: trainer\n",
    "    kind: job\n",
    "    image: mlrun/mlrun\n",
    "    handler: train\n",
    "  - url: serving.yaml\n",
    "    name: serving\n",
    "    kind: serving\n",
    "  workflows:\n",
    "  - path: ./src/workflow.py\n",
    "    name: main\n",
    "  artifacts:\n",
    "  - kind: dataset\n",
    "    metadata:\n",
    "      project: new-git-project\n",
    "      key: data\n",
    "    spec:\n",
    "      target_path: https://s3.wasabisys.com/iguazio/data/iris/iris.data.raw.csv\n",
    "      format: ''\n",
    "    status:\n",
    "      state: created\n",
    "  - kind: model\n",
    "    metadata:\n",
    "      project: new-git-project\n",
    "      key: model\n",
    "    spec:\n",
    "      target_path: s3://mlrun/projects/new-git-project/artifacts/trainer-train/0/model/\n",
    "      model_file: model_iris.pkl\n",
    "    status:\n",
    "      state: created\n",
    "  source: git://github.com/mlrun/mlrun.git#refs/heads/master\n",
    "  origin_url: git://github.com/mlrun/mlrun.git#refs/heads/master\n",
    "  desired_state: online\n",
    "```"
   ]
  },
  {
   "cell_type": "markdown",
   "id": "3664b979",
   "metadata": {},
   "source": [
    "<a id=\"push\"></a>\n",
    "## Pushing project context to Git"
   ]
  },
  {
   "cell_type": "markdown",
   "id": "02f9d609",
   "metadata": {},
   "source": [
    "```{admonition} Note\n",
    "Your very first push you will need to do through the CLI with the following command: git push <origin> <branch>\n",
    "Github will ask for your username and token. After you provide it and push for the first time, you can do your next pushes through the SDK (and without providing Github username and token) as shown in this tutorial:\n",
    "```"
   ]
  },
  {
   "cell_type": "markdown",
   "id": "2b64859f",
   "metadata": {},
   "source": [
    "If your remote has changed (e.g a team is working on the same branch), you need to first pull the latest code from git:"
   ]
  },
  {
   "cell_type": "code",
   "execution_count": null,
   "id": "fdd70916",
   "metadata": {},
   "outputs": [],
   "source": [
    "print(project.to_yaml())\n",
    "# project.pull(\"git-mlrun\")"
   ]
  },
  {
   "cell_type": "markdown",
   "id": "0548f497",
   "metadata": {},
   "source": [
    "```{admonition} Note\n",
    "For loading the project from a different environment you'll need to set project source. To do this use project.set_source() method:\n",
    "\n",
    "project.set_source(source=\"git_remote\",pull_at_runtime=\"True/False\",workdir=\"working_directory_in_git\")\n",
    "\n",
    "Where:\n",
    "source: valid path to git, zip, or tar file, (or None for current) e.g.\n",
    "                       git://github.com/mlrun/something.git\n",
    "                       http://some/url/file.zip\n",
    "                       \n",
    "pull_at_runtime: if True (usually during development), allows the user to retrieve the code in runtime, rather than re-build the function image every time the code changes if False (usually in production)\n",
    "\n",
    "workdir: the relative workdir path (under the context dir), for example: ./mlrun/docs/project/git-mlrun/\n",
    "```"
   ]
  },
  {
   "cell_type": "markdown",
   "id": "24e92976",
   "metadata": {},
   "source": [
    "By default project.push pushes the project.yaml, so there is no need to include it in files_to_add, but you need to include all the other files:"
   ]
  },
  {
   "cell_type": "code",
   "execution_count": null,
   "id": "673c46d2",
   "metadata": {},
   "outputs": [],
   "source": [
    "files_to_add = ['git-mlrun.ipynb','serving.yaml','src/trainer.py','src/workflow.py']"
   ]
  },
  {
   "cell_type": "markdown",
   "id": "6c005b92",
   "metadata": {},
   "source": [
    "Now you can push your project to Git. The command also saves the project state, commits and pushes the updates to the remote git repo with all the files in files_to_add."
   ]
  },
  {
   "cell_type": "code",
   "execution_count": null,
   "id": "e4f1f519",
   "metadata": {},
   "outputs": [],
   "source": [
    "project.push(branch='master',message='project with a workflow',add=files_to_add)"
   ]
  },
  {
   "cell_type": "markdown",
   "id": "842b7007",
   "metadata": {},
   "source": [
    "<a id=\"pull\"></a>\n",
    "## Pulling from Git to the project context"
   ]
  },
  {
   "cell_type": "markdown",
   "id": "ad31a8fc",
   "metadata": {},
   "source": [
    "If your remote has changed (e.g a team is working on the same branch), you need to first pull the latest code from git:"
   ]
  },
  {
   "cell_type": "markdown",
   "id": "59813522",
   "metadata": {},
   "source": [
    "Congratulations! You've successfully pushed and pulled your poject from git"
   ]
  },
  {
   "cell_type": "code",
   "execution_count": null,
   "id": "44bfddab",
   "metadata": {},
   "outputs": [],
   "source": [
    "# project.pull(\"git-mlrun\") "
   ]
  }
 ],
 "metadata": {
  "kernelspec": {
   "display_name": "Python 3 (ipykernel)",
   "language": "python",
   "name": "python3"
  },
  "language_info": {
   "codemirror_mode": {
    "name": "ipython",
    "version": 3
   },
   "file_extension": ".py",
   "mimetype": "text/x-python",
   "name": "python",
   "nbconvert_exporter": "python",
   "pygments_lexer": "ipython3",
   "version": "3.9.13"
  }
 },
 "nbformat": 4,
 "nbformat_minor": 5
}
